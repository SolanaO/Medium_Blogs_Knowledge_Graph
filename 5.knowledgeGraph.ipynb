{
 "cells": [
  {
   "cell_type": "markdown",
   "id": "7b754d2c",
   "metadata": {},
   "source": [
    "# Knowledge Graph for Medium Blogs"
   ]
  },
  {
   "cell_type": "markdown",
   "id": "1b97194c",
   "metadata": {},
   "source": [
    "## Workspace Setup"
   ]
  },
  {
   "cell_type": "code",
   "execution_count": 1,
   "id": "bb96328e",
   "metadata": {},
   "outputs": [],
   "source": [
    "import pandas as pd\n",
    "import numpy as np\n",
    "#import json\n",
    "#from datetime import datetime\n",
    "\n",
    "# useful pandas settings\n",
    "\n",
    "# Use 2 decimal places in the output display\n",
    "pd.set_option(\"display.precision\", 2)\n",
    "\n",
    "# Don't wrap dataframe across additional lines\n",
    "pd.set_option(\"display.expand_frame_repr\", False)\n",
    "\n",
    "# Set the maximum widths of columns\n",
    "pd.set_option(\"display.max_colwidth\", 120)\n",
    "\n",
    "# Set max rows displayed in output to 20\n",
    "pd.set_option(\"display.max_rows\", 20)"
   ]
  },
  {
   "cell_type": "code",
   "execution_count": 2,
   "id": "e9bd5851",
   "metadata": {},
   "outputs": [],
   "source": [
    "# Import visualization packages and libraries\n",
    "\n",
    "import pprint\n",
    "#import matplotlib.pyplot as plt\n",
    "from matplotlib import pyplot\n",
    "%matplotlib inline\n",
    "\n",
    "# Choose style and color palette\n",
    "import seaborn as sns\n",
    "sns.set_style(\"darkgrid\")\n",
    "\n",
    "colors = sns.color_palette('PuBuGn')"
   ]
  },
  {
   "cell_type": "markdown",
   "id": "c2d8d5a9",
   "metadata": {},
   "source": [
    "## Upload Data"
   ]
  },
  {
   "cell_type": "code",
   "execution_count": 3,
   "id": "16a50b57",
   "metadata": {},
   "outputs": [
    {
     "data": {
      "text/html": [
       "<div>\n",
       "<style scoped>\n",
       "    .dataframe tbody tr th:only-of-type {\n",
       "        vertical-align: middle;\n",
       "    }\n",
       "\n",
       "    .dataframe tbody tr th {\n",
       "        vertical-align: top;\n",
       "    }\n",
       "\n",
       "    .dataframe thead th {\n",
       "        text-align: right;\n",
       "    }\n",
       "</style>\n",
       "<table border=\"1\" class=\"dataframe\">\n",
       "  <thead>\n",
       "    <tr style=\"text-align: right;\">\n",
       "      <th></th>\n",
       "      <th>user_id</th>\n",
       "      <th>date</th>\n",
       "      <th>reading_time</th>\n",
       "      <th>title</th>\n",
       "      <th>subtitle</th>\n",
       "      <th>claps</th>\n",
       "      <th>responses</th>\n",
       "      <th>story_url</th>\n",
       "      <th>year</th>\n",
       "      <th>month</th>\n",
       "      <th>day</th>\n",
       "      <th>story_id</th>\n",
       "      <th>corpus</th>\n",
       "      <th>hard_labels</th>\n",
       "      <th>soft_labels</th>\n",
       "    </tr>\n",
       "  </thead>\n",
       "  <tbody>\n",
       "    <tr>\n",
       "      <th>0</th>\n",
       "      <td>e9ee1187182a</td>\n",
       "      <td>2021-03-01</td>\n",
       "      <td>4</td>\n",
       "      <td>Stop using numpy.random.seed()</td>\n",
       "      <td>How to set random seeds for individual classes in Python</td>\n",
       "      <td>150</td>\n",
       "      <td>1</td>\n",
       "      <td>https://towardsdatascience.com/stop-using-numpy-random-seed-581a9972805f?source=collection_archive---------0--------...</td>\n",
       "      <td>2021</td>\n",
       "      <td>3</td>\n",
       "      <td>1</td>\n",
       "      <td>581a9972805f</td>\n",
       "      <td>Stop using numpy.random.seed() How to set random seeds for individual classes in Python</td>\n",
       "      <td>34</td>\n",
       "      <td>26</td>\n",
       "    </tr>\n",
       "    <tr>\n",
       "      <th>1</th>\n",
       "      <td>fa1913854e95</td>\n",
       "      <td>2021-03-01</td>\n",
       "      <td>11</td>\n",
       "      <td>Semi-Automated Exploratory Data Analysis (EDA) in Python</td>\n",
       "      <td>Comprehensive Data Exploration Process with…</td>\n",
       "      <td>1000</td>\n",
       "      <td>8</td>\n",
       "      <td>https://towardsdatascience.com/semi-automated-exploratory-data-analysis-eda-in-python-7f96042c9809?source=collection...</td>\n",
       "      <td>2021</td>\n",
       "      <td>3</td>\n",
       "      <td>1</td>\n",
       "      <td>7f96042c9809</td>\n",
       "      <td>Semi-Automated Exploratory Data Analysis (EDA) in Python Comprehensive Data Exploration Process with…</td>\n",
       "      <td>65</td>\n",
       "      <td>72</td>\n",
       "    </tr>\n",
       "  </tbody>\n",
       "</table>\n",
       "</div>"
      ],
      "text/plain": [
       "        user_id        date  reading_time                                                     title                                                  subtitle  claps  responses                                                                                                                story_url  year  month  day      story_id                                                                                                 corpus  hard_labels  soft_labels\n",
       "0  e9ee1187182a  2021-03-01             4                            Stop using numpy.random.seed()  How to set random seeds for individual classes in Python    150          1  https://towardsdatascience.com/stop-using-numpy-random-seed-581a9972805f?source=collection_archive---------0--------...  2021      3    1  581a9972805f                Stop using numpy.random.seed() How to set random seeds for individual classes in Python           34           26\n",
       "1  fa1913854e95  2021-03-01            11  Semi-Automated Exploratory Data Analysis (EDA) in Python              Comprehensive Data Exploration Process with…   1000          8  https://towardsdatascience.com/semi-automated-exploratory-data-analysis-eda-in-python-7f96042c9809?source=collection...  2021      3    1  7f96042c9809  Semi-Automated Exploratory Data Analysis (EDA) in Python Comprehensive Data Exploration Process with…           65           72"
      ]
     },
     "execution_count": 3,
     "metadata": {},
     "output_type": "execute_result"
    }
   ],
   "source": [
    "# Upload blogs-authors dataset with cluster information\n",
    "df_blogs = pd.read_csv('data/data_processed/corpus_clusters.csv')\n",
    "df_blogs.head(2)"
   ]
  },
  {
   "cell_type": "code",
   "execution_count": 4,
   "id": "9ec2a2a9",
   "metadata": {},
   "outputs": [
    {
     "data": {
      "text/html": [
       "<div>\n",
       "<style scoped>\n",
       "    .dataframe tbody tr th:only-of-type {\n",
       "        vertical-align: middle;\n",
       "    }\n",
       "\n",
       "    .dataframe tbody tr th {\n",
       "        vertical-align: top;\n",
       "    }\n",
       "\n",
       "    .dataframe thead th {\n",
       "        text-align: right;\n",
       "    }\n",
       "</style>\n",
       "<table border=\"1\" class=\"dataframe\">\n",
       "  <thead>\n",
       "    <tr style=\"text-align: right;\">\n",
       "      <th></th>\n",
       "      <th>soft_labels</th>\n",
       "      <th>key1</th>\n",
       "      <th>key2</th>\n",
       "      <th>key3</th>\n",
       "      <th>key4</th>\n",
       "      <th>key5</th>\n",
       "      <th>meta_key1_description</th>\n",
       "      <th>meta_key1_wid</th>\n",
       "      <th>meta_key1_wikilabel</th>\n",
       "      <th>meta_key2_description</th>\n",
       "      <th>...</th>\n",
       "      <th>meta_key2_wikilabel</th>\n",
       "      <th>meta_key3_description</th>\n",
       "      <th>meta_key3_wid</th>\n",
       "      <th>meta_key3_wikilabel</th>\n",
       "      <th>meta_key4_description</th>\n",
       "      <th>meta_key4_wid</th>\n",
       "      <th>meta_key4_wikilabel</th>\n",
       "      <th>meta_key5_description</th>\n",
       "      <th>meta_key5_wid</th>\n",
       "      <th>meta_key5_wikilabel</th>\n",
       "    </tr>\n",
       "  </thead>\n",
       "  <tbody>\n",
       "    <tr>\n",
       "      <th>0</th>\n",
       "      <td>0</td>\n",
       "      <td>science improving coffee grind distribution</td>\n",
       "      <td>espresso shot coffee particle distribution coffee data</td>\n",
       "      <td>small sample espresso filter comparison</td>\n",
       "      <td>tds coffee data</td>\n",
       "      <td>staccato espresso</td>\n",
       "      <td>study and knowledge of the natural world; the natural and social sciences</td>\n",
       "      <td>336</td>\n",
       "      <td>science</td>\n",
       "      <td>brewed beverage prepared from roasted coffee seeds</td>\n",
       "      <td>...</td>\n",
       "      <td>coffee</td>\n",
       "      <td>A kind of coffee</td>\n",
       "      <td>180289</td>\n",
       "      <td>espresso</td>\n",
       "      <td>brewed beverage prepared from roasted coffee seeds</td>\n",
       "      <td>8486</td>\n",
       "      <td>coffee</td>\n",
       "      <td>form of musical articulation</td>\n",
       "      <td>466944</td>\n",
       "      <td>staccato</td>\n",
       "    </tr>\n",
       "    <tr>\n",
       "      <th>1</th>\n",
       "      <td>1</td>\n",
       "      <td>quantum computing learn</td>\n",
       "      <td>understanding grover</td>\n",
       "      <td>qubits means</td>\n",
       "      <td>encrypted data</td>\n",
       "      <td>mechanical properties</td>\n",
       "      <td>theoretical computation device relying on quantum mechanics</td>\n",
       "      <td>176555</td>\n",
       "      <td>quantum computer</td>\n",
       "      <td>American basketball player</td>\n",
       "      <td>...</td>\n",
       "      <td>Tim Hardaway Jr.</td>\n",
       "      <td>unit of quantum information, analogous to the classical bit; the information carried by a 2-state quantum-mechanical...</td>\n",
       "      <td>378201</td>\n",
       "      <td>qubit</td>\n",
       "      <td>facts represented for handling</td>\n",
       "      <td>42848</td>\n",
       "      <td>data</td>\n",
       "      <td>physical or intangible entity, owned by a person or a group of people</td>\n",
       "      <td>6422240</td>\n",
       "      <td>property</td>\n",
       "    </tr>\n",
       "  </tbody>\n",
       "</table>\n",
       "<p>2 rows × 21 columns</p>\n",
       "</div>"
      ],
      "text/plain": [
       "   soft_labels                                         key1                                                    key2                                     key3             key4                   key5                                                      meta_key1_description  meta_key1_wid meta_key1_wikilabel                               meta_key2_description  ...  meta_key2_wikilabel                                                                                                    meta_key3_description meta_key3_wid  meta_key3_wikilabel                               meta_key4_description meta_key4_wid  meta_key4_wikilabel                                                  meta_key5_description meta_key5_wid  meta_key5_wikilabel\n",
       "0            0  science improving coffee grind distribution  espresso shot coffee particle distribution coffee data  small sample espresso filter comparison  tds coffee data      staccato espresso  study and knowledge of the natural world; the natural and social sciences            336             science  brewed beverage prepared from roasted coffee seeds  ...               coffee                                                                                                         A kind of coffee        180289             espresso  brewed beverage prepared from roasted coffee seeds          8486               coffee                                           form of musical articulation        466944             staccato\n",
       "1            1                      quantum computing learn                                    understanding grover                             qubits means   encrypted data  mechanical properties                theoretical computation device relying on quantum mechanics         176555    quantum computer                          American basketball player  ...     Tim Hardaway Jr.  unit of quantum information, analogous to the classical bit; the information carried by a 2-state quantum-mechanical...        378201                qubit                      facts represented for handling         42848                 data  physical or intangible entity, owned by a person or a group of people       6422240             property\n",
       "\n",
       "[2 rows x 21 columns]"
      ]
     },
     "execution_count": 4,
     "metadata": {},
     "output_type": "execute_result"
    }
   ],
   "source": [
    "# Upload metadata with linked entities\n",
    "df_meta = pd.read_csv('data/data_processed/corpus_metadata.csv')\n",
    "df_meta.head(2)"
   ]
  },
  {
   "cell_type": "code",
   "execution_count": 5,
   "id": "dae2a735",
   "metadata": {},
   "outputs": [],
   "source": [
    "# Fill in the missing values to avoid Neo4j errors\n",
    "df_meta_filled = df_meta.replace(np.nan, '', regex=True)"
   ]
  },
  {
   "cell_type": "markdown",
   "id": "eb76e294",
   "metadata": {},
   "source": [
    "## Establish Neo4j Connection"
   ]
  },
  {
   "cell_type": "code",
   "execution_count": 3,
   "id": "3fac7266",
   "metadata": {},
   "outputs": [],
   "source": [
    "# Initialize a Neo4j Desktop session - must have a running DBMS\n",
    "# On create install APOC and GDS library\n",
    "\n",
    "from neo4j import GraphDatabase\n",
    "driver = GraphDatabase.driver('bolt://localhost:7687', auth=('neo4j', 'mediumdata'))"
   ]
  },
  {
   "cell_type": "code",
   "execution_count": 4,
   "id": "494ec16f",
   "metadata": {},
   "outputs": [],
   "source": [
    "# Function to parse Cypher queries\n",
    "def read_query(query):\n",
    "    with driver.session() as session:\n",
    "        result = session.run(query)\n",
    "        return pd.DataFrame([r.values() for r in result], columns=result.keys())"
   ]
  },
  {
   "cell_type": "markdown",
   "id": "c0a6f40f",
   "metadata": {},
   "source": [
    "## Create Knowledge Graph"
   ]
  },
  {
   "cell_type": "code",
   "execution_count": 5,
   "id": "91e96487",
   "metadata": {},
   "outputs": [],
   "source": [
    "# Create uniqueness constraints\n",
    "with driver.session() as session:\n",
    "    session.run('CREATE CONSTRAINT blogs IF NOT EXISTS FOR (b:Blog) REQUIRE b.story_id IS UNIQUE;')\n",
    "    session.run('CREATE CONSTRAINT authors IF NOT EXISTS FOR (a:Author) REQUIRE a.user_id IS UNIQUE;')\n",
    "    session.run('CREATE CONSTRAINT topics IF NOT EXISTS FOR (c:Cluster) REQUIRE c.soft_labels IS UNIQUE;')"
   ]
  },
  {
   "cell_type": "code",
   "execution_count": null,
   "id": "3b112478",
   "metadata": {},
   "outputs": [],
   "source": [
    "# Import data\n",
    "\n",
    "import_query = \"\"\"\n",
    "\n",
    "UNWIND $data as row\n",
    "MERGE (b:Blog {bid: row['id']})\n",
    "ON CREATE SET b.title = row['title']\n",
    "ON CREATE SET b.subtitle = row['subtitle']\n",
    "ON CREATE SET b.date = date(row['date'])\n",
    "ON CREATE SET b.claps = row['claps']\n",
    "ON CREATE SET b.readtime = row['reading_time']\n",
    "ON CREATE SET b.labels = row['labels']\n",
    "\n",
    "MERGE (a:Author {name: row['author']})\n",
    "MERGE (a)-[:WROTE]->(b)\n",
    "\"\"\"\n",
    "\n",
    "import_data = []\n",
    "session = driver.session()\n",
    "for i, row in df_blogs.iterrows():\n",
    "    import_data.append({'id':row['story_id'], \n",
    "                        'title':row['title'], \n",
    "                        'subtitle':row['subtitle'], \n",
    "                        'date':row['date'],\n",
    "                        'author':row['user_id'],\n",
    "                        'reading_time': row['reading_time'],\n",
    "                        'claps': row['claps'],\n",
    "                        'labels': row['soft_labels']})\n",
    "    if ((i % 2000) == 0) and (len(import_data) != 0):\n",
    "        session.run(import_query, {'data':import_data})\n",
    "        import_data = []\n",
    "\n",
    "session.run(import_query, {'data':import_data})\n",
    "session.close()"
   ]
  },
  {
   "cell_type": "code",
   "execution_count": null,
   "id": "b2876b02",
   "metadata": {},
   "outputs": [],
   "source": [
    "# Rename the labels property to topic property\n",
    "\n",
    "data = read_query('''\n",
    "MATCH (b:Blog)\n",
    "WITH collect(b) AS blogs\n",
    "CALL apoc.refactor.rename.nodeProperty(\"labels\", \"topic\", blogs)\n",
    "YIELD committedOperations\n",
    "RETURN committedOperations\n",
    "''')"
   ]
  },
  {
   "cell_type": "code",
   "execution_count": null,
   "id": "6b5f47a8",
   "metadata": {},
   "outputs": [],
   "source": [
    "# Refactor the property topic to a node Cluster and connect it to the Blog node\n",
    "\n",
    "data = read_query(\"\"\"\n",
    "MATCH (b:Blog)\n",
    "WITH b, b.topic as topnumber\n",
    "MATCH (b:Blog {topic: topnumber})\n",
    "MERGE (c:Cluster {topic: topnumber})\n",
    "MERGE (b) - [:HAS_TOPIC] -> (c)\n",
    "RETURN count(c)\n",
    "\"\"\")"
   ]
  },
  {
   "cell_type": "code",
   "execution_count": null,
   "id": "e0945879",
   "metadata": {},
   "outputs": [],
   "source": [
    "# Import linked data\n",
    "\n",
    "import_query = \"\"\"\n",
    "\n",
    "UNWIND $data as row\n",
    "MERGE (t:Cluster {topic: row['topic']})\n",
    "SET t.key1 = row['key1']\n",
    "SET t.description1 = row['description1']\n",
    "SET t.wid1 = row['wid1']\n",
    "SET t.wikilabel1 = row['wikilabel1']\n",
    "SET t.key2 = row['key2']\n",
    "SET t.description2 = row['description2']\n",
    "SET t.wid2 = row['wid2']\n",
    "SET t.wikilabel2 = row['wikilabel2']\n",
    "SET t.key3 = row['key3']\n",
    "SET t.description3 = row['description3']\n",
    "SET t.wid3 = row['wid3']\n",
    "SET t.wikilabel3 = row['wikilabel3']\n",
    "SET t.key4 = row['key4']\n",
    "SET t.description4 = row['description4']\n",
    "SET t.wid4 = row['wid4']\n",
    "SET t.wikilabel4 = row['wikilabel4']\n",
    "SET t.key5 = row['key5']\n",
    "SET t.description5 = row['description5']\n",
    "SET t.wid5 = row['wid5']\n",
    "SET t.wikilabel5 = row['wikilabel5']\n",
    "RETURN count(t)\n",
    "\"\"\"\n",
    "\n",
    "import_data = []\n",
    "session = driver.session()\n",
    "for i, row in df_meta_filled.iterrows():\n",
    "    import_data.append({'topic':row['soft_labels'], \n",
    "                        'key1':row['key1'], 'description1':row['meta_key1_description'], \n",
    "                        'wid1': row['meta_key1_wid'], 'wikilabel1': row['meta_key1_wikilabel'],\n",
    "                        'key2':row['key2'], 'description2':row['meta_key2_description'], \n",
    "                        'wid2': row['meta_key2_wid'], 'wikilabel2': row['meta_key2_wikilabel'],\n",
    "                        'key3':row['key3'], 'description3':row['meta_key3_description'], \n",
    "                        'wid3': row['meta_key3_wid'], 'wikilabel3': row['meta_key3_wikilabel'],\n",
    "                        'key4':row['key4'], 'description4':row['meta_key4_description'], \n",
    "                        'wid4': row['meta_key4_wid'], 'wikilabel4': row['meta_key4_wikilabel'],\n",
    "                        'key5':row['key5'], 'description5':row['meta_key5_description'], \n",
    "                        'wid5': row['meta_key5_wid'], 'wikilabel5': row['meta_key5_wikilabel']})\n",
    "session.run(import_query, {'data':import_data})\n",
    "session.close()"
   ]
  },
  {
   "cell_type": "markdown",
   "id": "8cdedf40",
   "metadata": {},
   "source": [
    "## Graph Data Exploration"
   ]
  },
  {
   "cell_type": "code",
   "execution_count": 19,
   "id": "200fe68d",
   "metadata": {},
   "outputs": [],
   "source": [
    "# Display graph information\n",
    "\n",
    "data = read_query('''\n",
    "CALL apoc.meta.stats()\n",
    "YIELD nodeCount, relCount,\n",
    "      propertyKeyCount,\n",
    "      labelCount, labels,\n",
    "      relTypeCount, relTypes\n",
    "RETURN nodeCount, relCount,\n",
    "    propertyKeyCount,\n",
    "    labelCount, labels,\n",
    "    relTypeCount, relTypes;\n",
    "    ''')"
   ]
  },
  {
   "cell_type": "code",
   "execution_count": 21,
   "id": "dda08dd3",
   "metadata": {},
   "outputs": [
    {
     "data": {
      "text/plain": [
       "0    {'Author': 12044, 'Cluster': 143, 'Blog': 51762}\n",
       "Name: labels, dtype: object"
      ]
     },
     "execution_count": 21,
     "metadata": {},
     "output_type": "execute_result"
    }
   ],
   "source": [
    "data.labels"
   ]
  },
  {
   "cell_type": "code",
   "execution_count": 8,
   "id": "9a04e1c0",
   "metadata": {},
   "outputs": [
    {
     "data": {
      "text/plain": [
       "0    {'()-[:WROTE]->()': 51762, '()-[:WROTE]->(:Blog)': 51762, '()-[:HAS_TOPIC]->(:Cluster)': 51762, '(:Author)-[:WROTE]-...\n",
       "Name: relTypes, dtype: object"
      ]
     },
     "execution_count": 8,
     "metadata": {},
     "output_type": "execute_result"
    }
   ],
   "source": [
    "data.relTypes"
   ]
  },
  {
   "cell_type": "code",
   "execution_count": 9,
   "id": "ff7bdb3d",
   "metadata": {},
   "outputs": [
    {
     "data": {
      "text/html": [
       "<div>\n",
       "<style scoped>\n",
       "    .dataframe tbody tr th:only-of-type {\n",
       "        vertical-align: middle;\n",
       "    }\n",
       "\n",
       "    .dataframe tbody tr th {\n",
       "        vertical-align: top;\n",
       "    }\n",
       "\n",
       "    .dataframe thead th {\n",
       "        text-align: right;\n",
       "    }\n",
       "</style>\n",
       "<table border=\"1\" class=\"dataframe\">\n",
       "  <thead>\n",
       "    <tr style=\"text-align: right;\">\n",
       "      <th></th>\n",
       "      <th>key</th>\n",
       "      <th>value</th>\n",
       "    </tr>\n",
       "  </thead>\n",
       "  <tbody>\n",
       "    <tr>\n",
       "      <th>0</th>\n",
       "      <td>HAS_TOPIC</td>\n",
       "      <td>{'count': 51762, 'type': 'relationship', 'properties': {}}</td>\n",
       "    </tr>\n",
       "    <tr>\n",
       "      <th>1</th>\n",
       "      <td>Author</td>\n",
       "      <td>{'relationships': {'WROTE': {'count': 0, 'properties': {}, 'direction': 'out', 'labels': ['Blog']}}, 'count': 12044,...</td>\n",
       "    </tr>\n",
       "    <tr>\n",
       "      <th>2</th>\n",
       "      <td>Cluster</td>\n",
       "      <td>{'relationships': {'HAS_TOPIC': {'count': 995, 'properties': {}, 'direction': 'in', 'labels': ['Blog']}}, 'count': 1...</td>\n",
       "    </tr>\n",
       "    <tr>\n",
       "      <th>3</th>\n",
       "      <td>Blog</td>\n",
       "      <td>{'relationships': {'WROTE': {'count': 4100, 'properties': {}, 'direction': 'in', 'labels': ['Author']}, 'HAS_TOPIC':...</td>\n",
       "    </tr>\n",
       "    <tr>\n",
       "      <th>4</th>\n",
       "      <td>WROTE</td>\n",
       "      <td>{'count': 51762, 'type': 'relationship', 'properties': {}}</td>\n",
       "    </tr>\n",
       "  </tbody>\n",
       "</table>\n",
       "</div>"
      ],
      "text/plain": [
       "         key                                                                                                                    value\n",
       "0  HAS_TOPIC                                                               {'count': 51762, 'type': 'relationship', 'properties': {}}\n",
       "1     Author  {'relationships': {'WROTE': {'count': 0, 'properties': {}, 'direction': 'out', 'labels': ['Blog']}}, 'count': 12044,...\n",
       "2    Cluster  {'relationships': {'HAS_TOPIC': {'count': 995, 'properties': {}, 'direction': 'in', 'labels': ['Blog']}}, 'count': 1...\n",
       "3       Blog  {'relationships': {'WROTE': {'count': 4100, 'properties': {}, 'direction': 'in', 'labels': ['Author']}, 'HAS_TOPIC':...\n",
       "4      WROTE                                                               {'count': 51762, 'type': 'relationship', 'properties': {}}"
      ]
     },
     "execution_count": 9,
     "metadata": {},
     "output_type": "execute_result"
    }
   ],
   "source": [
    "# Extract information about the graph schema\n",
    "data = read_query('''CALL apoc.meta.schema()\n",
    "YIELD value\n",
    "UNWIND keys(value) AS key\n",
    "RETURN key, value[key] AS value;''')\n",
    "data"
   ]
  },
  {
   "cell_type": "code",
   "execution_count": 30,
   "id": "78cb4bc0",
   "metadata": {},
   "outputs": [
    {
     "name": "stdout",
     "output_type": "stream",
     "text": [
      "[['pagerank_cotopics', 'description5', 'wid5', 'wikilabel5', 'wcc_cotopic', 'wid4', 'wikilabel4', 'key5', 'key4', 'description3', 'wid3', 'wikilabel3', 'description4', 'wikilabel2', 'key3', 'key2', 'wid2', 'wid1', 'wikilabel1', 'description2', 'description1', 'topic', 'key1']]\n"
     ]
    }
   ],
   "source": [
    "# Get properties for the node Cluster\n",
    "data = read_query('''\n",
    "MATCH (c:Cluster)\n",
    "            RETURN keys(c)\n",
    "            LIMIT 1;\n",
    "''')\n",
    "print(list(data.iloc[0]))"
   ]
  },
  {
   "cell_type": "code",
   "execution_count": 31,
   "id": "b4c2ef28",
   "metadata": {},
   "outputs": [
    {
     "name": "stdout",
     "output_type": "stream",
     "text": [
      "                                                keys(b)\n",
      "0  [date, claps, readtime, topic, bid, title, subtitle]\n"
     ]
    }
   ],
   "source": [
    "# Get properties for the node Blog\n",
    "data = read_query('''\n",
    "MATCH (b:Blog)\n",
    "            RETURN keys(b)\n",
    "            LIMIT 1;\n",
    "''')\n",
    "print(data)"
   ]
  },
  {
   "cell_type": "code",
   "execution_count": 32,
   "id": "34ae5224",
   "metadata": {},
   "outputs": [
    {
     "data": {
      "image/png": "[encoded data removed]",
      "text/plain": [
       "<Figure size 576x288 with 1 Axes>"
      ]
     },
     "metadata": {},
     "output_type": "display_data"
    }
   ],
   "source": [
    "# Find the most prolific authors\n",
    "data = read_query(\"\"\"\n",
    "MATCH (a:Author)\n",
    "RETURN a.name AS author, apoc.node.degree(a) AS number_of_blogs\n",
    "ORDER BY number_of_blogs DESC LIMIT 10\n",
    "\"\"\")\n",
    "\n",
    "fig, ax = pyplot.subplots(figsize=(8,4))\n",
    "ax = sns.barplot(x=\"author\", y=\"number_of_blogs\", data=data, color=\"darkgreen\")\n",
    "ax.set_xticklabels(ax.get_xticklabels(), rotation=30);"
   ]
  },
  {
   "cell_type": "markdown",
   "id": "64d1189a",
   "metadata": {},
   "source": [
    "There are two authors that have more than 400 blogs each. Let's learn more about them."
   ]
  },
  {
   "cell_type": "code",
   "execution_count": 33,
   "id": "16dfd085",
   "metadata": {},
   "outputs": [
    {
     "data": {
      "text/plain": [
       "('7e12c71dfa81', '2cf6b549448')"
      ]
     },
     "execution_count": 33,
     "metadata": {},
     "output_type": "execute_result"
    }
   ],
   "source": [
    "author0 = data.author[0]\n",
    "author1 = data.author[1]\n",
    "author0, author1"
   ]
  },
  {
   "cell_type": "code",
   "execution_count": 36,
   "id": "4fc23f05",
   "metadata": {},
   "outputs": [
    {
     "data": {
      "image/png": "[encoded data removed]",
      "text/plain": [
       "<Figure size 576x288 with 1 Axes>"
      ]
     },
     "metadata": {},
     "output_type": "display_data"
    }
   ],
   "source": [
    "# Find topics for the most prolific author\n",
    "data = read_query(\"\"\"\n",
    "MATCH (a:Author {name : '7e12c71dfa81'})-[]-(b:Blog)\n",
    "RETURN b.topic AS topics, count(*) as counts\n",
    "ORDER BY counts DESC\n",
    "LIMIT 20\n",
    "\"\"\")\n",
    "\n",
    "fig, ax = pyplot.subplots(figsize=(8,4))\n",
    "ax = sns.barplot(x=\"topics\", y=\"counts\", data=data, \n",
    "                 color=\"darkgreen\")"
   ]
  },
  {
   "cell_type": "code",
   "execution_count": 38,
   "id": "8ec47f83",
   "metadata": {},
   "outputs": [
    {
     "data": {
      "text/html": [
       "<div>\n",
       "<style scoped>\n",
       "    .dataframe tbody tr th:only-of-type {\n",
       "        vertical-align: middle;\n",
       "    }\n",
       "\n",
       "    .dataframe tbody tr th {\n",
       "        vertical-align: top;\n",
       "    }\n",
       "\n",
       "    .dataframe thead th {\n",
       "        text-align: right;\n",
       "    }\n",
       "</style>\n",
       "<table border=\"1\" class=\"dataframe\">\n",
       "  <thead>\n",
       "    <tr style=\"text-align: right;\">\n",
       "      <th></th>\n",
       "      <th>topics</th>\n",
       "      <th>counts</th>\n",
       "    </tr>\n",
       "  </thead>\n",
       "  <tbody>\n",
       "    <tr>\n",
       "      <th>0</th>\n",
       "      <td>97</td>\n",
       "      <td>95</td>\n",
       "    </tr>\n",
       "    <tr>\n",
       "      <th>1</th>\n",
       "      <td>85</td>\n",
       "      <td>32</td>\n",
       "    </tr>\n",
       "    <tr>\n",
       "      <th>2</th>\n",
       "      <td>133</td>\n",
       "      <td>14</td>\n",
       "    </tr>\n",
       "    <tr>\n",
       "      <th>3</th>\n",
       "      <td>138</td>\n",
       "      <td>13</td>\n",
       "    </tr>\n",
       "    <tr>\n",
       "      <th>4</th>\n",
       "      <td>116</td>\n",
       "      <td>12</td>\n",
       "    </tr>\n",
       "  </tbody>\n",
       "</table>\n",
       "</div>"
      ],
      "text/plain": [
       "   topics  counts\n",
       "0      97      95\n",
       "1      85      32\n",
       "2     133      14\n",
       "3     138      13\n",
       "4     116      12"
      ]
     },
     "execution_count": 38,
     "metadata": {},
     "output_type": "execute_result"
    }
   ],
   "source": [
    "data.head()"
   ]
  },
  {
   "cell_type": "code",
   "execution_count": 39,
   "id": "07e8b7b3",
   "metadata": {},
   "outputs": [
    {
     "data": {
      "text/html": [
       "<div>\n",
       "<style scoped>\n",
       "    .dataframe tbody tr th:only-of-type {\n",
       "        vertical-align: middle;\n",
       "    }\n",
       "\n",
       "    .dataframe tbody tr th {\n",
       "        vertical-align: top;\n",
       "    }\n",
       "\n",
       "    .dataframe thead th {\n",
       "        text-align: right;\n",
       "    }\n",
       "</style>\n",
       "<table border=\"1\" class=\"dataframe\">\n",
       "  <thead>\n",
       "    <tr style=\"text-align: right;\">\n",
       "      <th></th>\n",
       "      <th>title</th>\n",
       "      <th>subtitle</th>\n",
       "      <th>label</th>\n",
       "      <th>topic1</th>\n",
       "      <th>topic2</th>\n",
       "      <th>topic3</th>\n",
       "    </tr>\n",
       "  </thead>\n",
       "  <tbody>\n",
       "    <tr>\n",
       "      <th>0</th>\n",
       "      <td>Can Big Data Tell Human Stories?</td>\n",
       "      <td>Our weekly selection of must-read Editors’ Picks and original…</td>\n",
       "      <td>97</td>\n",
       "      <td>weekly data science</td>\n",
       "      <td>data journalism knowledge</td>\n",
       "      <td>ai blogs</td>\n",
       "    </tr>\n",
       "    <tr>\n",
       "      <th>1</th>\n",
       "      <td>The 2022 Data Science Articles You (Absolutely) Shouldn’t Miss</td>\n",
       "      <td>-</td>\n",
       "      <td>97</td>\n",
       "      <td>weekly data science</td>\n",
       "      <td>data journalism knowledge</td>\n",
       "      <td>ai blogs</td>\n",
       "    </tr>\n",
       "    <tr>\n",
       "      <th>2</th>\n",
       "      <td>5 Popular Posts on Making Your Life as a Data Scientist Easier</td>\n",
       "      <td>From speeding up your loading time to…</td>\n",
       "      <td>97</td>\n",
       "      <td>weekly data science</td>\n",
       "      <td>data journalism knowledge</td>\n",
       "      <td>ai blogs</td>\n",
       "    </tr>\n",
       "    <tr>\n",
       "      <th>3</th>\n",
       "      <td>’Tis the Season to Explore our Best Deep Dives</td>\n",
       "      <td>Our weekly selection of must-read Editors’ Picks and…</td>\n",
       "      <td>97</td>\n",
       "      <td>weekly data science</td>\n",
       "      <td>data journalism knowledge</td>\n",
       "      <td>ai blogs</td>\n",
       "    </tr>\n",
       "    <tr>\n",
       "      <th>4</th>\n",
       "      <td>December Edition: 2022 Highlights</td>\n",
       "      <td>Monthly Edition</td>\n",
       "      <td>97</td>\n",
       "      <td>weekly data science</td>\n",
       "      <td>data journalism knowledge</td>\n",
       "      <td>ai blogs</td>\n",
       "    </tr>\n",
       "  </tbody>\n",
       "</table>\n",
       "</div>"
      ],
      "text/plain": [
       "                                                            title                                                        subtitle  label               topic1                     topic2    topic3\n",
       "0                                Can Big Data Tell Human Stories?  Our weekly selection of must-read Editors’ Picks and original…     97  weekly data science  data journalism knowledge  ai blogs\n",
       "1  The 2022 Data Science Articles You (Absolutely) Shouldn’t Miss                                                               -     97  weekly data science  data journalism knowledge  ai blogs\n",
       "2  5 Popular Posts on Making Your Life as a Data Scientist Easier                          From speeding up your loading time to…     97  weekly data science  data journalism knowledge  ai blogs\n",
       "3                  ’Tis the Season to Explore our Best Deep Dives           Our weekly selection of must-read Editors’ Picks and…     97  weekly data science  data journalism knowledge  ai blogs\n",
       "4                               December Edition: 2022 Highlights                                                 Monthly Edition     97  weekly data science  data journalism knowledge  ai blogs"
      ]
     },
     "execution_count": 39,
     "metadata": {},
     "output_type": "execute_result"
    }
   ],
   "source": [
    "# Take a look at several articles in topic 97\n",
    "data = read_query(\"\"\"\n",
    "MATCH (a:Author {name :'7e12c71dfa81'})-[]-(b:Blog {topic:97}) -[]-(c:Cluster)\n",
    "RETURN b.title AS title, b.subtitle AS subtitle, b.topic AS label, c.key1 AS topic1,\n",
    "c.key2 AS topic2, c.key3 AS topic3\n",
    "LIMIT 5\n",
    "\"\"\")\n",
    "data"
   ]
  },
  {
   "cell_type": "code",
   "execution_count": 40,
   "id": "b9273aa9",
   "metadata": {},
   "outputs": [
    {
     "data": {
      "text/html": [
       "<div>\n",
       "<style scoped>\n",
       "    .dataframe tbody tr th:only-of-type {\n",
       "        vertical-align: middle;\n",
       "    }\n",
       "\n",
       "    .dataframe tbody tr th {\n",
       "        vertical-align: top;\n",
       "    }\n",
       "\n",
       "    .dataframe thead th {\n",
       "        text-align: right;\n",
       "    }\n",
       "</style>\n",
       "<table border=\"1\" class=\"dataframe\">\n",
       "  <thead>\n",
       "    <tr style=\"text-align: right;\">\n",
       "      <th></th>\n",
       "      <th>title</th>\n",
       "      <th>label</th>\n",
       "      <th>topic1</th>\n",
       "      <th>topic2</th>\n",
       "    </tr>\n",
       "  </thead>\n",
       "  <tbody>\n",
       "    <tr>\n",
       "      <th>0</th>\n",
       "      <td>Data Skills Can Make a Big Difference in Non-Data-Science Careers</td>\n",
       "      <td>85</td>\n",
       "      <td>data science blogging</td>\n",
       "      <td>irresistible data science resume</td>\n",
       "    </tr>\n",
       "    <tr>\n",
       "      <th>1</th>\n",
       "      <td>To Make an Impact in Any Industry, Domain Knowledge Is Critical</td>\n",
       "      <td>85</td>\n",
       "      <td>data science blogging</td>\n",
       "      <td>irresistible data science resume</td>\n",
       "    </tr>\n",
       "    <tr>\n",
       "      <th>2</th>\n",
       "      <td>August Edition: Writing Better as a Data Scientist</td>\n",
       "      <td>85</td>\n",
       "      <td>data science blogging</td>\n",
       "      <td>irresistible data science resume</td>\n",
       "    </tr>\n",
       "    <tr>\n",
       "      <th>3</th>\n",
       "      <td>Sara Metwalli on NLP, Public Writing, and Launching a Data Science Career</td>\n",
       "      <td>85</td>\n",
       "      <td>data science blogging</td>\n",
       "      <td>irresistible data science resume</td>\n",
       "    </tr>\n",
       "    <tr>\n",
       "      <th>4</th>\n",
       "      <td>The Right Skill Set Is the One That Allows You to Pursue Your Interests</td>\n",
       "      <td>85</td>\n",
       "      <td>data science blogging</td>\n",
       "      <td>irresistible data science resume</td>\n",
       "    </tr>\n",
       "  </tbody>\n",
       "</table>\n",
       "</div>"
      ],
      "text/plain": [
       "                                                                       title  label                 topic1                            topic2\n",
       "0          Data Skills Can Make a Big Difference in Non-Data-Science Careers     85  data science blogging  irresistible data science resume\n",
       "1            To Make an Impact in Any Industry, Domain Knowledge Is Critical     85  data science blogging  irresistible data science resume\n",
       "2                         August Edition: Writing Better as a Data Scientist     85  data science blogging  irresistible data science resume\n",
       "3  Sara Metwalli on NLP, Public Writing, and Launching a Data Science Career     85  data science blogging  irresistible data science resume\n",
       "4    The Right Skill Set Is the One That Allows You to Pursue Your Interests     85  data science blogging  irresistible data science resume"
      ]
     },
     "execution_count": 40,
     "metadata": {},
     "output_type": "execute_result"
    }
   ],
   "source": [
    "# Take a look at several articles in topic 85\n",
    "data = read_query(\"\"\"\n",
    "MATCH (a:Author {name :'7e12c71dfa81'})-[]-(b:Blog {topic:85})-[]-(c:Cluster)\n",
    "RETURN b.title AS title, b.topic AS label, c.key1 AS topic1, c.key2 AS topic2\n",
    "LIMIT 5\n",
    "\"\"\")\n",
    "data"
   ]
  },
  {
   "cell_type": "code",
   "execution_count": 41,
   "id": "a338c7b9",
   "metadata": {},
   "outputs": [
    {
     "data": {
      "image/png": "[encoded data removed]",
      "text/plain": [
       "<Figure size 576x288 with 1 Axes>"
      ]
     },
     "metadata": {},
     "output_type": "display_data"
    }
   ],
   "source": [
    "# Find topics for the second most prolific author\n",
    "data = read_query(\"\"\"\n",
    "MATCH (a:Author {name : '2cf6b549448'})-[]-(b:Blog)\n",
    "RETURN b.topic AS topics, count(*) as counts\n",
    "ORDER BY counts DESC LIMIT 10\n",
    "\"\"\")\n",
    "\n",
    "fig, ax = pyplot.subplots(figsize=(8,4))\n",
    "ax = sns.barplot(x=\"topics\", y=\"counts\", data=data, color=\"darkgreen\")"
   ]
  },
  {
   "cell_type": "code",
   "execution_count": 42,
   "id": "80db07df",
   "metadata": {},
   "outputs": [
    {
     "data": {
      "text/html": [
       "<div>\n",
       "<style scoped>\n",
       "    .dataframe tbody tr th:only-of-type {\n",
       "        vertical-align: middle;\n",
       "    }\n",
       "\n",
       "    .dataframe tbody tr th {\n",
       "        vertical-align: top;\n",
       "    }\n",
       "\n",
       "    .dataframe thead th {\n",
       "        text-align: right;\n",
       "    }\n",
       "</style>\n",
       "<table border=\"1\" class=\"dataframe\">\n",
       "  <thead>\n",
       "    <tr style=\"text-align: right;\">\n",
       "      <th></th>\n",
       "      <th>title</th>\n",
       "      <th>topic1</th>\n",
       "    </tr>\n",
       "  </thead>\n",
       "  <tbody>\n",
       "    <tr>\n",
       "      <th>0</th>\n",
       "      <td>2 Different Replace Functions of Python Pandas</td>\n",
       "      <td>faster pandas operations</td>\n",
       "    </tr>\n",
       "    <tr>\n",
       "      <th>1</th>\n",
       "      <td>4 Techniques for Scaling Pandas to Large Datasets</td>\n",
       "      <td>faster pandas operations</td>\n",
       "    </tr>\n",
       "    <tr>\n",
       "      <th>2</th>\n",
       "      <td>Data Visualization with Pandas</td>\n",
       "      <td>faster pandas operations</td>\n",
       "    </tr>\n",
       "    <tr>\n",
       "      <th>3</th>\n",
       "      <td>5 Methods for Filtering Strings with Python Pandas</td>\n",
       "      <td>faster pandas operations</td>\n",
       "    </tr>\n",
       "    <tr>\n",
       "      <th>4</th>\n",
       "      <td>Pandas May Not Be the King of the Jungle After All</td>\n",
       "      <td>faster pandas operations</td>\n",
       "    </tr>\n",
       "  </tbody>\n",
       "</table>\n",
       "</div>"
      ],
      "text/plain": [
       "                                                title                    topic1\n",
       "0      2 Different Replace Functions of Python Pandas  faster pandas operations\n",
       "1   4 Techniques for Scaling Pandas to Large Datasets  faster pandas operations\n",
       "2                      Data Visualization with Pandas  faster pandas operations\n",
       "3  5 Methods for Filtering Strings with Python Pandas  faster pandas operations\n",
       "4  Pandas May Not Be the King of the Jungle After All  faster pandas operations"
      ]
     },
     "execution_count": 42,
     "metadata": {},
     "output_type": "execute_result"
    }
   ],
   "source": [
    "# Take a look at several articles in topic 56\n",
    "# Find topics for the most prolific author\n",
    "data = read_query(\"\"\"\n",
    "MATCH (a:Author {name :'2cf6b549448'})-[]-(b:Blog {topic:56})-[]-(c:Cluster)\n",
    "RETURN b.title AS title, c.key1 as topic1\n",
    "LIMIT 5\n",
    "\"\"\")\n",
    "data"
   ]
  },
  {
   "cell_type": "code",
   "execution_count": 43,
   "id": "2144c1b3",
   "metadata": {},
   "outputs": [
    {
     "data": {
      "image/png": "[encoded data removed]",
      "text/plain": [
       "<Figure size 576x288 with 1 Axes>"
      ]
     },
     "metadata": {},
     "output_type": "display_data"
    }
   ],
   "source": [
    "# Blogs written by year\n",
    "data = read_query(\"\"\"\n",
    "MATCH (b:Blog)\n",
    "RETURN b.date.year as year, count(*) as articles\n",
    "ORDER BY year\n",
    "\"\"\")\n",
    "fig, ax = pyplot.subplots(figsize=(8,4))\n",
    "ax = sns.barplot(x=\"year\", y=\"articles\", data=data, color=\"darkgreen\")"
   ]
  },
  {
   "cell_type": "code",
   "execution_count": 44,
   "id": "14af9583",
   "metadata": {},
   "outputs": [
    {
     "data": {
      "image/png": "[encoded data removed]",
      "text/plain": [
       "<Figure size 576x288 with 1 Axes>"
      ]
     },
     "metadata": {},
     "output_type": "display_data"
    }
   ],
   "source": [
    "# Blogs written by topic\n",
    "data = read_query(\"\"\"\n",
    "MATCH (b:Blog)\n",
    "RETURN b.topic as topic, count(*) as articles\n",
    "ORDER BY articles \n",
    "DESC LIMIT 20 \n",
    "\"\"\")\n",
    "fig, ax = pyplot.subplots(figsize=(8,4))\n",
    "ax = sns.barplot(x=\"topic\", y=\"articles\", data=data, color=\"darkgreen\")"
   ]
  },
  {
   "cell_type": "code",
   "execution_count": 46,
   "id": "0e98f4e1",
   "metadata": {},
   "outputs": [
    {
     "data": {
      "text/html": [
       "<div>\n",
       "<style scoped>\n",
       "    .dataframe tbody tr th:only-of-type {\n",
       "        vertical-align: middle;\n",
       "    }\n",
       "\n",
       "    .dataframe tbody tr th {\n",
       "        vertical-align: top;\n",
       "    }\n",
       "\n",
       "    .dataframe thead th {\n",
       "        text-align: right;\n",
       "    }\n",
       "</style>\n",
       "<table border=\"1\" class=\"dataframe\">\n",
       "  <thead>\n",
       "    <tr style=\"text-align: right;\">\n",
       "      <th></th>\n",
       "      <th>topic</th>\n",
       "      <th>articles</th>\n",
       "    </tr>\n",
       "  </thead>\n",
       "  <tbody>\n",
       "    <tr>\n",
       "      <th>0</th>\n",
       "      <td>127</td>\n",
       "      <td>879</td>\n",
       "    </tr>\n",
       "    <tr>\n",
       "      <th>1</th>\n",
       "      <td>39</td>\n",
       "      <td>856</td>\n",
       "    </tr>\n",
       "    <tr>\n",
       "      <th>2</th>\n",
       "      <td>101</td>\n",
       "      <td>801</td>\n",
       "    </tr>\n",
       "    <tr>\n",
       "      <th>3</th>\n",
       "      <td>31</td>\n",
       "      <td>787</td>\n",
       "    </tr>\n",
       "    <tr>\n",
       "      <th>4</th>\n",
       "      <td>103</td>\n",
       "      <td>735</td>\n",
       "    </tr>\n",
       "  </tbody>\n",
       "</table>\n",
       "</div>"
      ],
      "text/plain": [
       "   topic  articles\n",
       "0    127       879\n",
       "1     39       856\n",
       "2    101       801\n",
       "3     31       787\n",
       "4    103       735"
      ]
     },
     "execution_count": 46,
     "metadata": {},
     "output_type": "execute_result"
    }
   ],
   "source": [
    "# The most popular topics\n",
    "data.head()"
   ]
  },
  {
   "cell_type": "code",
   "execution_count": 47,
   "id": "3982784e",
   "metadata": {},
   "outputs": [
    {
     "data": {
      "image/png": "[encoded data removed]",
      "text/plain": [
       "<Figure size 576x288 with 1 Axes>"
      ]
     },
     "metadata": {},
     "output_type": "display_data"
    }
   ],
   "source": [
    "# The distribution of the most popular topic 127 over the months of 2020\n",
    "data = read_query(\"\"\"\n",
    "MATCH (b:Blog)\n",
    "WHERE b.topic = 127 AND b.date.year=2020\n",
    "RETURN b.date.month as month, count(*) as articles\n",
    "\"\"\")\n",
    "fig, ax = pyplot.subplots(figsize=(8,4))\n",
    "ax = sns.barplot(x=\"month\", y=\"articles\", data=data, color=\"darkgreen\")"
   ]
  },
  {
   "cell_type": "code",
   "execution_count": 48,
   "id": "71fc4af0",
   "metadata": {},
   "outputs": [
    {
     "data": {
      "text/html": [
       "<div>\n",
       "<style scoped>\n",
       "    .dataframe tbody tr th:only-of-type {\n",
       "        vertical-align: middle;\n",
       "    }\n",
       "\n",
       "    .dataframe tbody tr th {\n",
       "        vertical-align: top;\n",
       "    }\n",
       "\n",
       "    .dataframe thead th {\n",
       "        text-align: right;\n",
       "    }\n",
       "</style>\n",
       "<table border=\"1\" class=\"dataframe\">\n",
       "  <thead>\n",
       "    <tr style=\"text-align: right;\">\n",
       "      <th></th>\n",
       "      <th>0</th>\n",
       "    </tr>\n",
       "  </thead>\n",
       "  <tbody>\n",
       "    <tr>\n",
       "      <th>key1</th>\n",
       "      <td>ai ethics</td>\n",
       "    </tr>\n",
       "    <tr>\n",
       "      <th>description1</th>\n",
       "      <td>branch of philosophy that systematizes, defends, and recommends concepts of right and wrong conduct</td>\n",
       "    </tr>\n",
       "    <tr>\n",
       "      <th>key2</th>\n",
       "      <td>old cybernetics questions</td>\n",
       "    </tr>\n",
       "    <tr>\n",
       "      <th>description2</th>\n",
       "      <td>theory of communication and control based on regulatory feedback</td>\n",
       "    </tr>\n",
       "    <tr>\n",
       "      <th>key3</th>\n",
       "      <td>choices opensource</td>\n",
       "    </tr>\n",
       "    <tr>\n",
       "      <th>description3</th>\n",
       "      <td>act of choosing from multiple options</td>\n",
       "    </tr>\n",
       "    <tr>\n",
       "      <th>key4</th>\n",
       "      <td>crisis bridging social science</td>\n",
       "    </tr>\n",
       "    <tr>\n",
       "      <th>description4</th>\n",
       "      <td>type of event that is a unstable and dangerous situation</td>\n",
       "    </tr>\n",
       "  </tbody>\n",
       "</table>\n",
       "</div>"
      ],
      "text/plain": [
       "                                                                                                                0\n",
       "key1                                                                                                    ai ethics\n",
       "description1  branch of philosophy that systematizes, defends, and recommends concepts of right and wrong conduct\n",
       "key2                                                                                    old cybernetics questions\n",
       "description2                                     theory of communication and control based on regulatory feedback\n",
       "key3                                                                                           choices opensource\n",
       "description3                                                                act of choosing from multiple options\n",
       "key4                                                                               crisis bridging social science\n",
       "description4                                             type of event that is a unstable and dangerous situation"
      ]
     },
     "execution_count": 48,
     "metadata": {},
     "output_type": "execute_result"
    }
   ],
   "source": [
    "# Retrieve some information about the most numerous topic\n",
    "data = read_query(\"\"\"\n",
    "MATCH (c:Cluster)\n",
    "WHERE c.topic = 127 \n",
    "RETURN c.key1 AS key1, c.description1 AS description1,\n",
    "c.key2 AS key2, c.description2 AS description2,\n",
    "c.key3 AS key3, c.description3 AS description3,\n",
    "c.key4 AS key4, c.description4 AS description4\n",
    "\"\"\")\n",
    "data.T"
   ]
  },
  {
   "cell_type": "code",
   "execution_count": 50,
   "id": "c8212b8a",
   "metadata": {},
   "outputs": [
    {
     "data": {
      "text/html": [
       "<div>\n",
       "<style scoped>\n",
       "    .dataframe tbody tr th:only-of-type {\n",
       "        vertical-align: middle;\n",
       "    }\n",
       "\n",
       "    .dataframe tbody tr th {\n",
       "        vertical-align: top;\n",
       "    }\n",
       "\n",
       "    .dataframe thead th {\n",
       "        text-align: right;\n",
       "    }\n",
       "</style>\n",
       "<table border=\"1\" class=\"dataframe\">\n",
       "  <thead>\n",
       "    <tr style=\"text-align: right;\">\n",
       "      <th></th>\n",
       "      <th>title</th>\n",
       "      <th>date</th>\n",
       "    </tr>\n",
       "  </thead>\n",
       "  <tbody>\n",
       "    <tr>\n",
       "      <th>0</th>\n",
       "      <td>The Struggle to Advance Artificial Intelligence (AI) in the European Healthcare and…</td>\n",
       "      <td>2022-12-18</td>\n",
       "    </tr>\n",
       "    <tr>\n",
       "      <th>1</th>\n",
       "      <td>A New Spin to Ethical AI: Trolley Problems with GPT-3</td>\n",
       "      <td>2022-11-30</td>\n",
       "    </tr>\n",
       "    <tr>\n",
       "      <th>2</th>\n",
       "      <td>Galactica: What Dangerous AI Looks Like</td>\n",
       "      <td>2022-11-22</td>\n",
       "    </tr>\n",
       "    <tr>\n",
       "      <th>3</th>\n",
       "      <td>How Generative AI will Disrupt Everything During the Current Decade</td>\n",
       "      <td>2022-11-10</td>\n",
       "    </tr>\n",
       "    <tr>\n",
       "      <th>4</th>\n",
       "      <td>AI Scaling: Why Keeping Up Is Essential, And How To Do It</td>\n",
       "      <td>2022-11-08</td>\n",
       "    </tr>\n",
       "    <tr>\n",
       "      <th>5</th>\n",
       "      <td>A new, old lens on AI and its implications for IP disputes</td>\n",
       "      <td>2022-11-07</td>\n",
       "    </tr>\n",
       "    <tr>\n",
       "      <th>6</th>\n",
       "      <td>On AI Governance: How to Get Started</td>\n",
       "      <td>2022-10-28</td>\n",
       "    </tr>\n",
       "    <tr>\n",
       "      <th>7</th>\n",
       "      <td>How Assistance Games make AI safer</td>\n",
       "      <td>2022-10-26</td>\n",
       "    </tr>\n",
       "    <tr>\n",
       "      <th>8</th>\n",
       "      <td>Towards Data Science Podcast Finale: The future of AI, and the risks that come with it</td>\n",
       "      <td>2022-10-19</td>\n",
       "    </tr>\n",
       "    <tr>\n",
       "      <th>9</th>\n",
       "      <td>AI Alignment and Totalitarianism</td>\n",
       "      <td>2022-10-15</td>\n",
       "    </tr>\n",
       "    <tr>\n",
       "      <th>10</th>\n",
       "      <td>New Research: Advanced AI may tend to seek power *by default*</td>\n",
       "      <td>2022-10-12</td>\n",
       "    </tr>\n",
       "    <tr>\n",
       "      <th>11</th>\n",
       "      <td>Do You Also Feel AI Is Going Too Fast?</td>\n",
       "      <td>2022-10-07</td>\n",
       "    </tr>\n",
       "    <tr>\n",
       "      <th>12</th>\n",
       "      <td>A Brief History of Embedded AI</td>\n",
       "      <td>2022-09-28</td>\n",
       "    </tr>\n",
       "    <tr>\n",
       "      <th>13</th>\n",
       "      <td>A Framework for Building Trustworthy and Actionable AI</td>\n",
       "      <td>2022-09-23</td>\n",
       "    </tr>\n",
       "    <tr>\n",
       "      <th>14</th>\n",
       "      <td>ACT-1: How Adept Is Building the Future of AI with Action Transformers</td>\n",
       "      <td>2022-09-21</td>\n",
       "    </tr>\n",
       "    <tr>\n",
       "      <th>15</th>\n",
       "      <td>The emerging world of ML sensors</td>\n",
       "      <td>2022-09-21</td>\n",
       "    </tr>\n",
       "    <tr>\n",
       "      <th>16</th>\n",
       "      <td>Google’s PaLM-SayCan: The First of the Next Generation of Robots</td>\n",
       "      <td>2022-09-17</td>\n",
       "    </tr>\n",
       "    <tr>\n",
       "      <th>17</th>\n",
       "      <td>Does the brain run on deep learning?</td>\n",
       "      <td>2022-09-14</td>\n",
       "    </tr>\n",
       "    <tr>\n",
       "      <th>18</th>\n",
       "      <td>The Art of The AI KPI</td>\n",
       "      <td>2022-09-13</td>\n",
       "    </tr>\n",
       "    <tr>\n",
       "      <th>19</th>\n",
       "      <td>Artificial Intelligence is Transforming Modern Education</td>\n",
       "      <td>2022-09-11</td>\n",
       "    </tr>\n",
       "  </tbody>\n",
       "</table>\n",
       "</div>"
      ],
      "text/plain": [
       "                                                                                     title        date\n",
       "0     The Struggle to Advance Artificial Intelligence (AI) in the European Healthcare and…  2022-12-18\n",
       "1                                    A New Spin to Ethical AI: Trolley Problems with GPT-3  2022-11-30\n",
       "2                                                  Galactica: What Dangerous AI Looks Like  2022-11-22\n",
       "3                      How Generative AI will Disrupt Everything During the Current Decade  2022-11-10\n",
       "4                                AI Scaling: Why Keeping Up Is Essential, And How To Do It  2022-11-08\n",
       "5                               A new, old lens on AI and its implications for IP disputes  2022-11-07\n",
       "6                                                     On AI Governance: How to Get Started  2022-10-28\n",
       "7                                                       How Assistance Games make AI safer  2022-10-26\n",
       "8   Towards Data Science Podcast Finale: The future of AI, and the risks that come with it  2022-10-19\n",
       "9                                                         AI Alignment and Totalitarianism  2022-10-15\n",
       "10                           New Research: Advanced AI may tend to seek power *by default*  2022-10-12\n",
       "11                                                  Do You Also Feel AI Is Going Too Fast?  2022-10-07\n",
       "12                                                          A Brief History of Embedded AI  2022-09-28\n",
       "13                                  A Framework for Building Trustworthy and Actionable AI  2022-09-23\n",
       "14                  ACT-1: How Adept Is Building the Future of AI with Action Transformers  2022-09-21\n",
       "15                                                        The emerging world of ML sensors  2022-09-21\n",
       "16                        Google’s PaLM-SayCan: The First of the Next Generation of Robots  2022-09-17\n",
       "17                                                    Does the brain run on deep learning?  2022-09-14\n",
       "18                                                                   The Art of The AI KPI  2022-09-13\n",
       "19                                Artificial Intelligence is Transforming Modern Education  2022-09-11"
      ]
     },
     "execution_count": 50,
     "metadata": {},
     "output_type": "execute_result"
    }
   ],
   "source": [
    "# Some titles in the most popular topic 127\n",
    "data = read_query(\"\"\"\n",
    "MATCH (b:Blog)\n",
    "WHERE b.topic = 127 \n",
    "RETURN b.title AS title, b.date AS date\n",
    "ORDER BY date DESC LIMIT 20\n",
    "\"\"\")\n",
    "data"
   ]
  },
  {
   "cell_type": "code",
   "execution_count": 51,
   "id": "2850cd0d",
   "metadata": {},
   "outputs": [
    {
     "data": {
      "text/html": [
       "<div>\n",
       "<style scoped>\n",
       "    .dataframe tbody tr th:only-of-type {\n",
       "        vertical-align: middle;\n",
       "    }\n",
       "\n",
       "    .dataframe tbody tr th {\n",
       "        vertical-align: top;\n",
       "    }\n",
       "\n",
       "    .dataframe thead th {\n",
       "        text-align: right;\n",
       "    }\n",
       "</style>\n",
       "<table border=\"1\" class=\"dataframe\">\n",
       "  <thead>\n",
       "    <tr style=\"text-align: right;\">\n",
       "      <th></th>\n",
       "      <th>title</th>\n",
       "      <th>topic</th>\n",
       "      <th>author</th>\n",
       "    </tr>\n",
       "  </thead>\n",
       "  <tbody>\n",
       "    <tr>\n",
       "      <th>0</th>\n",
       "      <td>2022 World Cup Simulator Using Data Science, with Python</td>\n",
       "      <td>6</td>\n",
       "      <td>254e653181d2</td>\n",
       "    </tr>\n",
       "    <tr>\n",
       "      <th>1</th>\n",
       "      <td>Identify Data Loading Bottlenecks in Power BI</td>\n",
       "      <td>17</td>\n",
       "      <td>64005b7daa38</td>\n",
       "    </tr>\n",
       "    <tr>\n",
       "      <th>2</th>\n",
       "      <td>Every Scaler and Its Application in Data Science</td>\n",
       "      <td>23</td>\n",
       "      <td>ea170050148c</td>\n",
       "    </tr>\n",
       "    <tr>\n",
       "      <th>3</th>\n",
       "      <td>A New Era of Massively Parallel Simulation: A Practical Tutorial Using ElegantRL</td>\n",
       "      <td>26</td>\n",
       "      <td>df236586b4f5</td>\n",
       "    </tr>\n",
       "    <tr>\n",
       "      <th>4</th>\n",
       "      <td>Gentle Introduction to TensorFlow Probability — Trainable Parameters</td>\n",
       "      <td>27</td>\n",
       "      <td>2195f049db86</td>\n",
       "    </tr>\n",
       "    <tr>\n",
       "      <th>...</th>\n",
       "      <td>...</td>\n",
       "      <td>...</td>\n",
       "      <td>...</td>\n",
       "    </tr>\n",
       "    <tr>\n",
       "      <th>34</th>\n",
       "      <td>Top 5 Benchmark Datasets</td>\n",
       "      <td>123</td>\n",
       "      <td>120b86134681</td>\n",
       "    </tr>\n",
       "    <tr>\n",
       "      <th>35</th>\n",
       "      <td>Galactica: What Dangerous AI Looks Like</td>\n",
       "      <td>127</td>\n",
       "      <td>7ba6be8a3022</td>\n",
       "    </tr>\n",
       "    <tr>\n",
       "      <th>36</th>\n",
       "      <td>What I Learned in My First 6 Months as a Director of Data Science</td>\n",
       "      <td>136</td>\n",
       "      <td>a9bc11f7a61b</td>\n",
       "    </tr>\n",
       "    <tr>\n",
       "      <th>37</th>\n",
       "      <td>The Obscure Art of Data Design</td>\n",
       "      <td>138</td>\n",
       "      <td>2fccb851bb5e</td>\n",
       "    </tr>\n",
       "    <tr>\n",
       "      <th>38</th>\n",
       "      <td>The 8 Attributes that Recruiters Are Looking for in Their Ideal Data Science Candidate</td>\n",
       "      <td>140</td>\n",
       "      <td>6a8c6841e521</td>\n",
       "    </tr>\n",
       "  </tbody>\n",
       "</table>\n",
       "<p>39 rows × 3 columns</p>\n",
       "</div>"
      ],
      "text/plain": [
       "                                                                                     title  topic        author\n",
       "0                                 2022 World Cup Simulator Using Data Science, with Python      6  254e653181d2\n",
       "1                                            Identify Data Loading Bottlenecks in Power BI     17  64005b7daa38\n",
       "2                                         Every Scaler and Its Application in Data Science     23  ea170050148c\n",
       "3         A New Era of Massively Parallel Simulation: A Practical Tutorial Using ElegantRL     26  df236586b4f5\n",
       "4                     Gentle Introduction to TensorFlow Probability — Trainable Parameters     27  2195f049db86\n",
       "..                                                                                     ...    ...           ...\n",
       "34                                                                Top 5 Benchmark Datasets    123  120b86134681\n",
       "35                                                 Galactica: What Dangerous AI Looks Like    127  7ba6be8a3022\n",
       "36                       What I Learned in My First 6 Months as a Director of Data Science    136  a9bc11f7a61b\n",
       "37                                                          The Obscure Art of Data Design    138  2fccb851bb5e\n",
       "38  The 8 Attributes that Recruiters Are Looking for in Their Ideal Data Science Candidate    140  6a8c6841e521\n",
       "\n",
       "[39 rows x 3 columns]"
      ]
     },
     "execution_count": 51,
     "metadata": {},
     "output_type": "execute_result"
    }
   ],
   "source": [
    "# All articles written on a specific date\n",
    "data = read_query(\"\"\"\n",
    "MATCH (b:Blog)-[]-(a:Author)\n",
    "WHERE b.date = date(\"2022-11-22\") \n",
    "RETURN b.title as title, b.topic as topic, a.name as author\n",
    "ORDER BY topic\n",
    "\"\"\")\n",
    "data"
   ]
  },
  {
   "cell_type": "code",
   "execution_count": 52,
   "id": "7790dbfa",
   "metadata": {},
   "outputs": [
    {
     "data": {
      "text/html": [
       "<div>\n",
       "<style scoped>\n",
       "    .dataframe tbody tr th:only-of-type {\n",
       "        vertical-align: middle;\n",
       "    }\n",
       "\n",
       "    .dataframe tbody tr th {\n",
       "        vertical-align: top;\n",
       "    }\n",
       "\n",
       "    .dataframe thead th {\n",
       "        text-align: right;\n",
       "    }\n",
       "</style>\n",
       "<table border=\"1\" class=\"dataframe\">\n",
       "  <thead>\n",
       "    <tr style=\"text-align: right;\">\n",
       "      <th></th>\n",
       "      <th>month</th>\n",
       "      <th>most_active_writers</th>\n",
       "    </tr>\n",
       "  </thead>\n",
       "  <tbody>\n",
       "    <tr>\n",
       "      <th>0</th>\n",
       "      <td>1</td>\n",
       "      <td>[ca32a96e6dc7, 360a9d4d19ab, 120b86134681, 689ba04bb8be, 26a3909adc91]</td>\n",
       "    </tr>\n",
       "    <tr>\n",
       "      <th>1</th>\n",
       "      <td>2</td>\n",
       "      <td>[84a02493194a, ea170050148c, 2cf6b549448, 57de827b2dd, 964fe0870229]</td>\n",
       "    </tr>\n",
       "    <tr>\n",
       "      <th>2</th>\n",
       "      <td>3</td>\n",
       "      <td>[120b86134681, be743a65b006, 8002c1aed6e7, 593908e0206, 360a9d4d19ab]</td>\n",
       "    </tr>\n",
       "    <tr>\n",
       "      <th>3</th>\n",
       "      <td>4</td>\n",
       "      <td>[97c118547987, 2cf6b549448, 360a9d4d19ab, 120b86134681, 7b5b79d21508]</td>\n",
       "    </tr>\n",
       "    <tr>\n",
       "      <th>4</th>\n",
       "      <td>5</td>\n",
       "      <td>[2cf6b549448, ea170050148c, 97c118547987, 120b86134681, b9d77a4ca1d1]</td>\n",
       "    </tr>\n",
       "    <tr>\n",
       "      <th>5</th>\n",
       "      <td>6</td>\n",
       "      <td>[2cf6b549448, be743a65b006, b1444918afee, abe5272eafd9, 88797ba3f2f6]</td>\n",
       "    </tr>\n",
       "    <tr>\n",
       "      <th>6</th>\n",
       "      <td>7</td>\n",
       "      <td>[b1444918afee, 7e12c71dfa81, 5b8617eb89bb, 2cf6b549448, abe5272eafd9]</td>\n",
       "    </tr>\n",
       "    <tr>\n",
       "      <th>7</th>\n",
       "      <td>8</td>\n",
       "      <td>[b1444918afee, 2cf6b549448, 7e12c71dfa81, df006e67e544, eec017a8b178]</td>\n",
       "    </tr>\n",
       "    <tr>\n",
       "      <th>8</th>\n",
       "      <td>9</td>\n",
       "      <td>[2cf6b549448, 7e12c71dfa81, 6863335d05f7, 120b86134681, ea170050148c]</td>\n",
       "    </tr>\n",
       "    <tr>\n",
       "      <th>9</th>\n",
       "      <td>10</td>\n",
       "      <td>[2cf6b549448, 7e12c71dfa81, 2b0fa005e971, ea170050148c, 689ba04bb8be]</td>\n",
       "    </tr>\n",
       "    <tr>\n",
       "      <th>10</th>\n",
       "      <td>11</td>\n",
       "      <td>[2cf6b549448, 7e12c71dfa81, 689ba04bb8be, 2b0fa005e971, a7f2e8e50135]</td>\n",
       "    </tr>\n",
       "    <tr>\n",
       "      <th>11</th>\n",
       "      <td>12</td>\n",
       "      <td>[2cf6b549448, 7e12c71dfa81, 689ba04bb8be, 88797ba3f2f6, abe5272eafd9]</td>\n",
       "    </tr>\n",
       "  </tbody>\n",
       "</table>\n",
       "</div>"
      ],
      "text/plain": [
       "    month                                                     most_active_writers\n",
       "0       1  [ca32a96e6dc7, 360a9d4d19ab, 120b86134681, 689ba04bb8be, 26a3909adc91]\n",
       "1       2    [84a02493194a, ea170050148c, 2cf6b549448, 57de827b2dd, 964fe0870229]\n",
       "2       3   [120b86134681, be743a65b006, 8002c1aed6e7, 593908e0206, 360a9d4d19ab]\n",
       "3       4   [97c118547987, 2cf6b549448, 360a9d4d19ab, 120b86134681, 7b5b79d21508]\n",
       "4       5   [2cf6b549448, ea170050148c, 97c118547987, 120b86134681, b9d77a4ca1d1]\n",
       "5       6   [2cf6b549448, be743a65b006, b1444918afee, abe5272eafd9, 88797ba3f2f6]\n",
       "6       7   [b1444918afee, 7e12c71dfa81, 5b8617eb89bb, 2cf6b549448, abe5272eafd9]\n",
       "7       8   [b1444918afee, 2cf6b549448, 7e12c71dfa81, df006e67e544, eec017a8b178]\n",
       "8       9   [2cf6b549448, 7e12c71dfa81, 6863335d05f7, 120b86134681, ea170050148c]\n",
       "9      10   [2cf6b549448, 7e12c71dfa81, 2b0fa005e971, ea170050148c, 689ba04bb8be]\n",
       "10     11   [2cf6b549448, 7e12c71dfa81, 689ba04bb8be, 2b0fa005e971, a7f2e8e50135]\n",
       "11     12   [2cf6b549448, 7e12c71dfa81, 689ba04bb8be, 88797ba3f2f6, abe5272eafd9]"
      ]
     },
     "execution_count": 52,
     "metadata": {},
     "output_type": "execute_result"
    }
   ],
   "source": [
    "# Most active writers by month in 2020\n",
    "\n",
    "data = read_query(\"\"\"\n",
    "MATCH (a:Author)-[:WROTE]->(b:Blog)\n",
    "WHERE b.date.year = 2020 \n",
    "WITH b.date.month as month, a.name as author, count(*) as blogs\n",
    "ORDER BY blogs DESC\n",
    "RETURN month, collect(author)[..5] as most_active_writers\n",
    "ORDER BY month\n",
    "\"\"\")\n",
    "data"
   ]
  },
  {
   "cell_type": "markdown",
   "id": "a41d429c",
   "metadata": {},
   "source": [
    "## Cluster Relation Analysis"
   ]
  },
  {
   "cell_type": "code",
   "execution_count": 53,
   "id": "89bc10d1",
   "metadata": {},
   "outputs": [
    {
     "data": {
      "text/html": [
       "<div>\n",
       "<style scoped>\n",
       "    .dataframe tbody tr th:only-of-type {\n",
       "        vertical-align: middle;\n",
       "    }\n",
       "\n",
       "    .dataframe tbody tr th {\n",
       "        vertical-align: top;\n",
       "    }\n",
       "\n",
       "    .dataframe thead th {\n",
       "        text-align: right;\n",
       "    }\n",
       "</style>\n",
       "<table border=\"1\" class=\"dataframe\">\n",
       "  <thead>\n",
       "    <tr style=\"text-align: right;\">\n",
       "      <th></th>\n",
       "      <th>nodeQuery</th>\n",
       "      <th>relationshipQuery</th>\n",
       "      <th>graphName</th>\n",
       "      <th>nodeCount</th>\n",
       "      <th>relationshipCount</th>\n",
       "      <th>projectMillis</th>\n",
       "    </tr>\n",
       "  </thead>\n",
       "  <tbody>\n",
       "    <tr>\n",
       "      <th>0</th>\n",
       "      <td>MATCH (c:Cluster) RETURN id(c) as id</td>\n",
       "      <td>MATCH (s:Cluster)-[]-()&lt;-[:WROTE]-(a:Author)-[:WROTE]-&gt;()-[]-(t:Cluster)\\n   RETURN id(s) as source, id(t) as target...</td>\n",
       "      <td>cotopic-network</td>\n",
       "      <td>143</td>\n",
       "      <td>20033</td>\n",
       "      <td>1368</td>\n",
       "    </tr>\n",
       "  </tbody>\n",
       "</table>\n",
       "</div>"
      ],
      "text/plain": [
       "                              nodeQuery                                                                                                        relationshipQuery        graphName  nodeCount  relationshipCount  projectMillis\n",
       "0  MATCH (c:Cluster) RETURN id(c) as id  MATCH (s:Cluster)-[]-()<-[:WROTE]-(a:Author)-[:WROTE]->()-[]-(t:Cluster)\\n   RETURN id(s) as source, id(t) as target...  cotopic-network        143              20033           1368"
      ]
     },
     "execution_count": 53,
     "metadata": {},
     "output_type": "execute_result"
    }
   ],
   "source": [
    "# Create the graph projection that takes into account relations between topics\n",
    "read_query(\"\"\"\n",
    "CALL gds.graph.project.cypher('cotopic-network',\n",
    "  'MATCH (c:Cluster) RETURN id(c) as id',\n",
    "  'MATCH (s:Cluster)-[]-()<-[:WROTE]-(a:Author)-[:WROTE]->()-[]-(t:Cluster)\n",
    "   RETURN id(s) as source, id(t) as target, count(*) as weight')\n",
    "\"\"\")"
   ]
  },
  {
   "cell_type": "code",
   "execution_count": 54,
   "id": "4bef1c7a",
   "metadata": {},
   "outputs": [
    {
     "data": {
      "text/html": [
       "<div>\n",
       "<style scoped>\n",
       "    .dataframe tbody tr th:only-of-type {\n",
       "        vertical-align: middle;\n",
       "    }\n",
       "\n",
       "    .dataframe tbody tr th {\n",
       "        vertical-align: top;\n",
       "    }\n",
       "\n",
       "    .dataframe thead th {\n",
       "        text-align: right;\n",
       "    }\n",
       "</style>\n",
       "<table border=\"1\" class=\"dataframe\">\n",
       "  <thead>\n",
       "    <tr style=\"text-align: right;\">\n",
       "      <th></th>\n",
       "      <th>componentCount</th>\n",
       "      <th>componentDistribution</th>\n",
       "    </tr>\n",
       "  </thead>\n",
       "  <tbody>\n",
       "    <tr>\n",
       "      <th>0</th>\n",
       "      <td>1</td>\n",
       "      <td>{'p99': 143, 'min': 143, 'max': 143, 'mean': 143.0, 'p90': 143, 'p50': 143, 'p999': 143, 'p95': 143, 'p75': 143}</td>\n",
       "    </tr>\n",
       "  </tbody>\n",
       "</table>\n",
       "</div>"
      ],
      "text/plain": [
       "   componentCount                                                                                             componentDistribution\n",
       "0               1  {'p99': 143, 'min': 143, 'max': 143, 'mean': 143.0, 'p90': 143, 'p50': 143, 'p999': 143, 'p95': 143, 'p75': 143}"
      ]
     },
     "execution_count": 54,
     "metadata": {},
     "output_type": "execute_result"
    }
   ],
   "source": [
    "# Find weakly connected components in this graph projection\n",
    "read_query(\"\"\"\n",
    "CALL gds.wcc.write('cotopic-network', {writeProperty:'wcc_cotopic'})\n",
    "YIELD componentCount, componentDistribution\n",
    "\"\"\")"
   ]
  },
  {
   "cell_type": "markdown",
   "id": "6a0afeb8",
   "metadata": {},
   "source": [
    "There is 1 component in our network. Thus all topics are connected through various writers. "
   ]
  },
  {
   "cell_type": "markdown",
   "id": "32073af6",
   "metadata": {},
   "source": [
    "In the stream execution mode, the algorithm returns the score for each node. This allows us to inspect the results directly or post-process them in Cypher without any side effects. For example, we can order the results to find the nodes with the highest `PageRank` score."
   ]
  },
  {
   "cell_type": "code",
   "execution_count": 57,
   "id": "a4a5e524",
   "metadata": {},
   "outputs": [
    {
     "data": {
      "text/html": [
       "<div>\n",
       "<style scoped>\n",
       "    .dataframe tbody tr th:only-of-type {\n",
       "        vertical-align: middle;\n",
       "    }\n",
       "\n",
       "    .dataframe tbody tr th {\n",
       "        vertical-align: top;\n",
       "    }\n",
       "\n",
       "    .dataframe thead th {\n",
       "        text-align: right;\n",
       "    }\n",
       "</style>\n",
       "<table border=\"1\" class=\"dataframe\">\n",
       "  <thead>\n",
       "    <tr style=\"text-align: right;\">\n",
       "      <th></th>\n",
       "      <th>name</th>\n",
       "      <th>score</th>\n",
       "    </tr>\n",
       "  </thead>\n",
       "  <tbody>\n",
       "    <tr>\n",
       "      <th>0</th>\n",
       "      <td>4</td>\n",
       "      <td>0.98</td>\n",
       "    </tr>\n",
       "    <tr>\n",
       "      <th>1</th>\n",
       "      <td>31</td>\n",
       "      <td>0.98</td>\n",
       "    </tr>\n",
       "    <tr>\n",
       "      <th>2</th>\n",
       "      <td>33</td>\n",
       "      <td>0.98</td>\n",
       "    </tr>\n",
       "    <tr>\n",
       "      <th>3</th>\n",
       "      <td>41</td>\n",
       "      <td>0.98</td>\n",
       "    </tr>\n",
       "    <tr>\n",
       "      <th>4</th>\n",
       "      <td>46</td>\n",
       "      <td>0.98</td>\n",
       "    </tr>\n",
       "    <tr>\n",
       "      <th>...</th>\n",
       "      <td>...</td>\n",
       "      <td>...</td>\n",
       "    </tr>\n",
       "    <tr>\n",
       "      <th>138</th>\n",
       "      <td>38</td>\n",
       "      <td>0.90</td>\n",
       "    </tr>\n",
       "    <tr>\n",
       "      <th>139</th>\n",
       "      <td>3</td>\n",
       "      <td>0.87</td>\n",
       "    </tr>\n",
       "    <tr>\n",
       "      <th>140</th>\n",
       "      <td>7</td>\n",
       "      <td>0.86</td>\n",
       "    </tr>\n",
       "    <tr>\n",
       "      <th>141</th>\n",
       "      <td>17</td>\n",
       "      <td>0.82</td>\n",
       "    </tr>\n",
       "    <tr>\n",
       "      <th>142</th>\n",
       "      <td>0</td>\n",
       "      <td>0.40</td>\n",
       "    </tr>\n",
       "  </tbody>\n",
       "</table>\n",
       "<p>143 rows × 2 columns</p>\n",
       "</div>"
      ],
      "text/plain": [
       "     name  score\n",
       "0       4   0.98\n",
       "1      31   0.98\n",
       "2      33   0.98\n",
       "3      41   0.98\n",
       "4      46   0.98\n",
       "..    ...    ...\n",
       "138    38   0.90\n",
       "139     3   0.87\n",
       "140     7   0.86\n",
       "141    17   0.82\n",
       "142     0   0.40\n",
       "\n",
       "[143 rows x 2 columns]"
      ]
     },
     "execution_count": 57,
     "metadata": {},
     "output_type": "execute_result"
    }
   ],
   "source": [
    "\n",
    "data = read_query(\"\"\"\n",
    "CALL gds.pageRank.stream('cotopic-network')\n",
    "YIELD nodeId, score\n",
    "RETURN gds.util.asNode(nodeId).topic AS name, score\n",
    "ORDER BY score DESC, name ASC\n",
    "\"\"\")\n",
    "data"
   ]
  },
  {
   "cell_type": "markdown",
   "id": "f170b771",
   "metadata": {},
   "source": [
    "The topics with the highest blog popularity:"
   ]
  },
  {
   "cell_type": "code",
   "execution_count": 68,
   "id": "1fff87f0",
   "metadata": {},
   "outputs": [
    {
     "data": {
      "image/png": "[encoded data removed]",
      "text/plain": [
       "<Figure size 576x288 with 1 Axes>"
      ]
     },
     "metadata": {},
     "output_type": "display_data"
    }
   ],
   "source": [
    "data = read_query(\"\"\"\n",
    "MATCH (c:Cluster)\n",
    "RETURN c.key1 as topic,  c.pagerank_cotopics as pagerank\n",
    "ORDER BY pagerank DESC\n",
    "LIMIT 10\n",
    "\"\"\")\n",
    "\n",
    "fig, ax = pyplot.subplots(figsize=(8,4))\n",
    "ax = sns.barplot(x=\"topic\", y=\"pagerank\", data=data, color=\"darkgreen\")\n",
    "ax.set_xticklabels(ax.get_xticklabels(), rotation=80);"
   ]
  },
  {
   "cell_type": "code",
   "execution_count": 62,
   "id": "42820cd3",
   "metadata": {},
   "outputs": [
    {
     "data": {
      "text/plain": [
       "{'p99': 3.9641551971435547,\n",
       " 'min': 0.2720451354980469,\n",
       " 'max': 4.729246139526367,\n",
       " 'mean': 0.9612404616562636,\n",
       " 'p90': 1.666036605834961,\n",
       " 'p50': 0.7800121307373047,\n",
       " 'p999': 4.729246139526367,\n",
       " 'p95': 2.178403854370117,\n",
       " 'p75': 1.1363506317138672}"
      ]
     },
     "execution_count": 62,
     "metadata": {},
     "output_type": "execute_result"
    }
   ],
   "source": [
    "# Get statistics on the weight distribution of PageRank\n",
    "data = read_query(\"\"\"\n",
    "CALL gds.pageRank.write('cotopic-network', \n",
    "  {writeProperty:'pagerank_cotopics', maxIterations:20, \n",
    "  relationshipWeightProperty:'weight'})\n",
    "YIELD centralityDistribution\n",
    "\"\"\")\n",
    "data.centralityDistribution[0]"
   ]
  },
  {
   "cell_type": "markdown",
   "id": "fb76de3b",
   "metadata": {},
   "source": [
    "Use the approximate Betweenness centrality to observe the most influential topics over the information flow in the co-topics network."
   ]
  },
  {
   "cell_type": "code",
   "execution_count": 69,
   "id": "8208de00",
   "metadata": {},
   "outputs": [
    {
     "data": {
      "image/png": "[encoded data removed]",
      "text/plain": [
       "<Figure size 1152x288 with 1 Axes>"
      ]
     },
     "metadata": {},
     "output_type": "display_data"
    }
   ],
   "source": [
    "data = read_query(\"\"\"\n",
    "CALL gds.betweenness.stream('cotopic-network', \n",
    "  {samplingSize:1000})\n",
    "YIELD nodeId, score\n",
    "RETURN gds.util.asNode(nodeId).topic as topic, score as between\n",
    "ORDER BY between DESC LIMIT 50\n",
    "\"\"\")\n",
    "\n",
    "fig, ax = pyplot.subplots(figsize=(16,4))\n",
    "ax = sns.barplot(x=\"topic\", y=\"between\", data=data, color=\"darkgreen\")\n",
    "ax.set_xticklabels(ax.get_xticklabels(), rotation=50);"
   ]
  },
  {
   "cell_type": "code",
   "execution_count": 70,
   "id": "27a213ba",
   "metadata": {},
   "outputs": [
    {
     "data": {
      "text/plain": [
       "array([6.53814847, 6.29744496, 6.23427599, 6.20754553, 6.18170218,\n",
       "       6.08580111, 5.91509873, 1.76207414])"
      ]
     },
     "execution_count": 70,
     "metadata": {},
     "output_type": "execute_result"
    }
   ],
   "source": [
    "# The betweeness centrality takes only several values\n",
    "data.between.unique()"
   ]
  },
  {
   "cell_type": "code",
   "execution_count": 71,
   "id": "19bf420a",
   "metadata": {},
   "outputs": [
    {
     "data": {
      "text/plain": [
       "topic      72.00\n",
       "between     6.54\n",
       "Name: 0, dtype: float64"
      ]
     },
     "execution_count": 71,
     "metadata": {},
     "output_type": "execute_result"
    }
   ],
   "source": [
    "# The topic with highest betweness centrality score\n",
    "data.iloc[0]"
   ]
  },
  {
   "cell_type": "code",
   "execution_count": 72,
   "id": "7561ef7f",
   "metadata": {},
   "outputs": [
    {
     "data": {
      "text/html": [
       "<div>\n",
       "<style scoped>\n",
       "    .dataframe tbody tr th:only-of-type {\n",
       "        vertical-align: middle;\n",
       "    }\n",
       "\n",
       "    .dataframe tbody tr th {\n",
       "        vertical-align: top;\n",
       "    }\n",
       "\n",
       "    .dataframe thead th {\n",
       "        text-align: right;\n",
       "    }\n",
       "</style>\n",
       "<table border=\"1\" class=\"dataframe\">\n",
       "  <thead>\n",
       "    <tr style=\"text-align: right;\">\n",
       "      <th></th>\n",
       "      <th>c.key1</th>\n",
       "      <th>c.description1</th>\n",
       "      <th>c.key2</th>\n",
       "      <th>c.description2</th>\n",
       "    </tr>\n",
       "  </thead>\n",
       "  <tbody>\n",
       "    <tr>\n",
       "      <th>0</th>\n",
       "      <td>stronger python exploratory data analysis</td>\n",
       "      <td>activity for gaining insight from data</td>\n",
       "      <td>analysis gui</td>\n",
       "      <td></td>\n",
       "    </tr>\n",
       "  </tbody>\n",
       "</table>\n",
       "</div>"
      ],
      "text/plain": [
       "                                      c.key1                          c.description1        c.key2 c.description2\n",
       "0  stronger python exploratory data analysis  activity for gaining insight from data  analysis gui               "
      ]
     },
     "execution_count": 72,
     "metadata": {},
     "output_type": "execute_result"
    }
   ],
   "source": [
    "# Take a look at topic 72\n",
    "data = read_query(\"\"\"\n",
    "MATCH (c:Cluster)\n",
    "WHERE c.topic = 72\n",
    "RETURN c.key1, c.description1, c.key2, c.description2\n",
    "\"\"\")\n",
    "data"
   ]
  },
  {
   "cell_type": "code",
   "execution_count": 73,
   "id": "af8a607a",
   "metadata": {},
   "outputs": [
    {
     "data": {
      "text/html": [
       "<div>\n",
       "<style scoped>\n",
       "    .dataframe tbody tr th:only-of-type {\n",
       "        vertical-align: middle;\n",
       "    }\n",
       "\n",
       "    .dataframe tbody tr th {\n",
       "        vertical-align: top;\n",
       "    }\n",
       "\n",
       "    .dataframe thead th {\n",
       "        text-align: right;\n",
       "    }\n",
       "</style>\n",
       "<table border=\"1\" class=\"dataframe\">\n",
       "  <thead>\n",
       "    <tr style=\"text-align: right;\">\n",
       "      <th></th>\n",
       "      <th>graphName</th>\n",
       "      <th>database</th>\n",
       "      <th>memoryUsage</th>\n",
       "      <th>sizeInBytes</th>\n",
       "      <th>nodeCount</th>\n",
       "      <th>relationshipCount</th>\n",
       "      <th>configuration</th>\n",
       "      <th>density</th>\n",
       "      <th>creationTime</th>\n",
       "      <th>modificationTime</th>\n",
       "      <th>schema</th>\n",
       "      <th>schemaWithOrientation</th>\n",
       "    </tr>\n",
       "  </thead>\n",
       "  <tbody>\n",
       "    <tr>\n",
       "      <th>0</th>\n",
       "      <td>cotopic-network</td>\n",
       "      <td>neo4j</td>\n",
       "      <td></td>\n",
       "      <td>-1</td>\n",
       "      <td>143</td>\n",
       "      <td>20033</td>\n",
       "      <td>{'relationshipQuery': 'MATCH (s:Cluster)-[]-()&lt;-[:WROTE]-(a:Author)-[:WROTE]-&gt;()-[]-(t:Cluster)\n",
       "   RETURN id(s) as s...</td>\n",
       "      <td>0.99</td>\n",
       "      <td>2023-03-05T07:58:44.486698336-06:00</td>\n",
       "      <td>2023-03-05T07:58:45.325633129-06:00</td>\n",
       "      <td>{'graphProperties': {}, 'relationships': {'__ALL__': {'weight': 'Float (DefaultValue(NaN), TRANSIENT, Aggregation.NO...</td>\n",
       "      <td>{'graphProperties': {}, 'relationships': {'__ALL__': {'properties': {'weight': 'Float (DefaultValue(NaN), TRANSIENT,...</td>\n",
       "    </tr>\n",
       "  </tbody>\n",
       "</table>\n",
       "</div>"
      ],
      "text/plain": [
       "         graphName database memoryUsage  sizeInBytes  nodeCount  relationshipCount                                                                                                            configuration  density                         creationTime                     modificationTime                                                                                                                   schema                                                                                                    schemaWithOrientation\n",
       "0  cotopic-network    neo4j                       -1        143              20033  {'relationshipQuery': 'MATCH (s:Cluster)-[]-()<-[:WROTE]-(a:Author)-[:WROTE]->()-[]-(t:Cluster)\n",
       "   RETURN id(s) as s...     0.99  2023-03-05T07:58:44.486698336-06:00  2023-03-05T07:58:45.325633129-06:00  {'graphProperties': {}, 'relationships': {'__ALL__': {'weight': 'Float (DefaultValue(NaN), TRANSIENT, Aggregation.NO...  {'graphProperties': {}, 'relationships': {'__ALL__': {'properties': {'weight': 'Float (DefaultValue(NaN), TRANSIENT,..."
      ]
     },
     "execution_count": 73,
     "metadata": {},
     "output_type": "execute_result"
    }
   ],
   "source": [
    "# Drop the projection\n",
    "read_query(\"\"\"\n",
    "CALL gds.graph.drop('cotopic-network')\n",
    "\"\"\")"
   ]
  },
  {
   "cell_type": "markdown",
   "id": "3683fcfa",
   "metadata": {},
   "source": [
    "## Knowledge Graphs Blogs Subgraph"
   ]
  },
  {
   "cell_type": "code",
   "execution_count": 75,
   "id": "060331b7",
   "metadata": {},
   "outputs": [],
   "source": [
    "# Create fulltext search index\n",
    "with driver.session() as session:\n",
    "    session.run('''CREATE FULLTEXT INDEX searchIndex IF NOT EXISTS FOR (b:Blog) \n",
    "                ON EACH [b.title, b.subtitle, b.date];''')"
   ]
  },
  {
   "cell_type": "code",
   "execution_count": 15,
   "id": "af318f75",
   "metadata": {},
   "outputs": [
    {
     "data": {
      "text/html": [
       "<div>\n",
       "<style scoped>\n",
       "    .dataframe tbody tr th:only-of-type {\n",
       "        vertical-align: middle;\n",
       "    }\n",
       "\n",
       "    .dataframe tbody tr th {\n",
       "        vertical-align: top;\n",
       "    }\n",
       "\n",
       "    .dataframe thead th {\n",
       "        text-align: right;\n",
       "    }\n",
       "</style>\n",
       "<table border=\"1\" class=\"dataframe\">\n",
       "  <thead>\n",
       "    <tr style=\"text-align: right;\">\n",
       "      <th></th>\n",
       "      <th>bid</th>\n",
       "      <th>title</th>\n",
       "      <th>subtitle</th>\n",
       "      <th>topic</th>\n",
       "      <th>score</th>\n",
       "    </tr>\n",
       "  </thead>\n",
       "  <tbody>\n",
       "    <tr>\n",
       "      <th>0</th>\n",
       "      <td>d510269f5cf0</td>\n",
       "      <td>Probabilistic Reasoning on Knowledge Graphs</td>\n",
       "      <td>KNOWLEDGE GRAPHS &amp; REASONING</td>\n",
       "      <td>41</td>\n",
       "      <td>8.56</td>\n",
       "    </tr>\n",
       "    <tr>\n",
       "      <th>1</th>\n",
       "      <td>e6b0a03d373d</td>\n",
       "      <td>Knowledge Graph Embedding — A Simplified Version</td>\n",
       "      <td>An explanation of what knowledge graph embeddings…</td>\n",
       "      <td>41</td>\n",
       "      <td>7.57</td>\n",
       "    </tr>\n",
       "    <tr>\n",
       "      <th>2</th>\n",
       "      <td>bce66b377b14</td>\n",
       "      <td>Reconciling Your Data and the World with Knowledge Graphs</td>\n",
       "      <td>A thorough introduction to knowledge graphs</td>\n",
       "      <td>41</td>\n",
       "      <td>7.32</td>\n",
       "    </tr>\n",
       "    <tr>\n",
       "      <th>3</th>\n",
       "      <td>bb747b27ff3f</td>\n",
       "      <td>What Is a Relational Knowledge Graph?</td>\n",
       "      <td>Exploring the future of graph databases and knowledge graphs</td>\n",
       "      <td>41</td>\n",
       "      <td>7.29</td>\n",
       "    </tr>\n",
       "    <tr>\n",
       "      <th>4</th>\n",
       "      <td>2af83065ade0</td>\n",
       "      <td>Build and Analyze Knowledge Graphs with Diffbot</td>\n",
       "      <td>How to Answer Difficult Questions with Knowledge Graph</td>\n",
       "      <td>41</td>\n",
       "      <td>7.27</td>\n",
       "    </tr>\n",
       "  </tbody>\n",
       "</table>\n",
       "</div>"
      ],
      "text/plain": [
       "            bid                                                      title                                                      subtitle  topic  score\n",
       "0  d510269f5cf0                Probabilistic Reasoning on Knowledge Graphs                                  KNOWLEDGE GRAPHS & REASONING     41   8.56\n",
       "1  e6b0a03d373d           Knowledge Graph Embedding — A Simplified Version            An explanation of what knowledge graph embeddings…     41   7.57\n",
       "2  bce66b377b14  Reconciling Your Data and the World with Knowledge Graphs                   A thorough introduction to knowledge graphs     41   7.32\n",
       "3  bb747b27ff3f                      What Is a Relational Knowledge Graph?  Exploring the future of graph databases and knowledge graphs     41   7.29\n",
       "4  2af83065ade0            Build and Analyze Knowledge Graphs with Diffbot        How to Answer Difficult Questions with Knowledge Graph     41   7.27"
      ]
     },
     "execution_count": 15,
     "metadata": {},
     "output_type": "execute_result"
    }
   ],
   "source": [
    "# Find blogs that mention knowledge graphs in title or subtitle\n",
    "\n",
    "data_kg = read_query(\"\"\"\n",
    "CALL db.index.fulltext.queryNodes(\"searchIndex\", \"knowledge AND graph*\")\n",
    "YIELD node, score\n",
    "RETURN node.bid AS bid, node.title AS title, node.subtitle AS subtitle, node.topic as topic, score\n",
    "\"\"\")\n",
    "data_kg.head()"
   ]
  },
  {
   "cell_type": "code",
   "execution_count": 18,
   "id": "97b33af5",
   "metadata": {},
   "outputs": [],
   "source": [
    "# Label the KG blogs\n",
    "\n",
    "import_query = \"\"\"\n",
    "\n",
    "UNWIND $data as row\n",
    "MERGE (b:Blog {bid: row['bid']})\n",
    "SET b.subject = row['subject']\n",
    "\"\"\"\n",
    "\n",
    "import_data = []\n",
    "session = driver.session()\n",
    "for i, row in data_kg.iterrows():\n",
    "    import_data.append({'bid':row['bid'], \n",
    "                        'title':row['title'], \n",
    "                        'subtitle':row['subtitle'], \n",
    "                        'topic': row['topic'],\n",
    "                        'subject': row['subject']})\n",
    "    if ((i % 2000) == 0) and (len(import_data) != 0):\n",
    "        session.run(import_query, {'data':import_data})\n",
    "        import_data = []\n",
    "\n",
    "session.run(import_query, {'data':import_data})\n",
    "session.close()"
   ]
  },
  {
   "cell_type": "code",
   "execution_count": 19,
   "id": "94cd211a",
   "metadata": {},
   "outputs": [
    {
     "data": {
      "text/html": [
       "<div>\n",
       "<style scoped>\n",
       "    .dataframe tbody tr th:only-of-type {\n",
       "        vertical-align: middle;\n",
       "    }\n",
       "\n",
       "    .dataframe tbody tr th {\n",
       "        vertical-align: top;\n",
       "    }\n",
       "\n",
       "    .dataframe thead th {\n",
       "        text-align: right;\n",
       "    }\n",
       "</style>\n",
       "<table border=\"1\" class=\"dataframe\">\n",
       "  <thead>\n",
       "    <tr style=\"text-align: right;\">\n",
       "      <th></th>\n",
       "    </tr>\n",
       "  </thead>\n",
       "  <tbody>\n",
       "  </tbody>\n",
       "</table>\n",
       "</div>"
      ],
      "text/plain": [
       "Empty DataFrame\n",
       "Columns: []\n",
       "Index: []"
      ]
     },
     "execution_count": 19,
     "metadata": {},
     "output_type": "execute_result"
    }
   ],
   "source": [
    "# Drop the full text search index\n",
    "read_query(\"DROP INDEX searchIndex\")"
   ]
  },
  {
   "cell_type": "code",
   "execution_count": 33,
   "id": "c011d24b",
   "metadata": {},
   "outputs": [
    {
     "data": {
      "text/html": [
       "<div>\n",
       "<style scoped>\n",
       "    .dataframe tbody tr th:only-of-type {\n",
       "        vertical-align: middle;\n",
       "    }\n",
       "\n",
       "    .dataframe tbody tr th {\n",
       "        vertical-align: top;\n",
       "    }\n",
       "\n",
       "    .dataframe thead th {\n",
       "        text-align: right;\n",
       "    }\n",
       "</style>\n",
       "<table border=\"1\" class=\"dataframe\">\n",
       "  <thead>\n",
       "    <tr style=\"text-align: right;\">\n",
       "      <th></th>\n",
       "      <th>author</th>\n",
       "      <th>title</th>\n",
       "      <th>date</th>\n",
       "    </tr>\n",
       "  </thead>\n",
       "  <tbody>\n",
       "    <tr>\n",
       "      <th>0</th>\n",
       "      <td>ff9d63e09a67</td>\n",
       "      <td>English to Cypher with GPT-3 in Doctor.ai</td>\n",
       "      <td>2022-02-21</td>\n",
       "    </tr>\n",
       "    <tr>\n",
       "      <th>1</th>\n",
       "      <td>e0af7616d0c8</td>\n",
       "      <td>The New Benchmark for Question Answering over Knowledge Graphs — QALD-9-Plus</td>\n",
       "      <td>2022-02-18</td>\n",
       "    </tr>\n",
       "    <tr>\n",
       "      <th>2</th>\n",
       "      <td>bc73969705af</td>\n",
       "      <td>Explore Better Materials Using Deep Graph Convolutional Networks and Bayesian Optimization</td>\n",
       "      <td>2021-07-31</td>\n",
       "    </tr>\n",
       "    <tr>\n",
       "      <th>3</th>\n",
       "      <td>5a96ad8aeac8</td>\n",
       "      <td>Reasoning on Financial Intelligence</td>\n",
       "      <td>2020-09-15</td>\n",
       "    </tr>\n",
       "    <tr>\n",
       "      <th>4</th>\n",
       "      <td>47a0ecbd2fbe</td>\n",
       "      <td>We’ve Released a COVID-19 Knowledge Graph</td>\n",
       "      <td>2020-07-14</td>\n",
       "    </tr>\n",
       "    <tr>\n",
       "      <th>5</th>\n",
       "      <td>b040ce924438</td>\n",
       "      <td>Creating Knowledge Graphs from Resumes and Traversing them</td>\n",
       "      <td>2020-05-29</td>\n",
       "    </tr>\n",
       "    <tr>\n",
       "      <th>6</th>\n",
       "      <td>d1fc6e715513</td>\n",
       "      <td>Knowledge Graphs for Social Good Workshop: Helping the United Nations achieve Sustainable Development Goals</td>\n",
       "      <td>2020-03-10</td>\n",
       "    </tr>\n",
       "    <tr>\n",
       "      <th>7</th>\n",
       "      <td>a19a0004db61</td>\n",
       "      <td>How Do Conversational Agents Answer Questions?</td>\n",
       "      <td>2020-01-14</td>\n",
       "    </tr>\n",
       "    <tr>\n",
       "      <th>8</th>\n",
       "      <td>629856f2b69b</td>\n",
       "      <td>Named Entity Disambiguation Boosted with Knowledge Graphs</td>\n",
       "      <td>2019-12-18</td>\n",
       "    </tr>\n",
       "    <tr>\n",
       "      <th>9</th>\n",
       "      <td>e8ec6fa4d7d4</td>\n",
       "      <td>The Data Fabric, Containers, Kubernetes, Knowledge-Graphs, and more</td>\n",
       "      <td>2019-06-14</td>\n",
       "    </tr>\n",
       "    <tr>\n",
       "      <th>10</th>\n",
       "      <td>88dd71d1ffe2</td>\n",
       "      <td>4 Use Cases of AI &amp; Knowledge Graphs in Investing</td>\n",
       "      <td>2019-03-28</td>\n",
       "    </tr>\n",
       "  </tbody>\n",
       "</table>\n",
       "</div>"
      ],
      "text/plain": [
       "          author                                                                                                        title        date\n",
       "0   ff9d63e09a67                                                                    English to Cypher with GPT-3 in Doctor.ai  2022-02-21\n",
       "1   e0af7616d0c8                                 The New Benchmark for Question Answering over Knowledge Graphs — QALD-9-Plus  2022-02-18\n",
       "2   bc73969705af                   Explore Better Materials Using Deep Graph Convolutional Networks and Bayesian Optimization  2021-07-31\n",
       "3   5a96ad8aeac8                                                                          Reasoning on Financial Intelligence  2020-09-15\n",
       "4   47a0ecbd2fbe                                                                    We’ve Released a COVID-19 Knowledge Graph  2020-07-14\n",
       "5   b040ce924438                                                   Creating Knowledge Graphs from Resumes and Traversing them  2020-05-29\n",
       "6   d1fc6e715513  Knowledge Graphs for Social Good Workshop: Helping the United Nations achieve Sustainable Development Goals  2020-03-10\n",
       "7   a19a0004db61                                                               How Do Conversational Agents Answer Questions?  2020-01-14\n",
       "8   629856f2b69b                                                    Named Entity Disambiguation Boosted with Knowledge Graphs  2019-12-18\n",
       "9   e8ec6fa4d7d4                                          The Data Fabric, Containers, Kubernetes, Knowledge-Graphs, and more  2019-06-14\n",
       "10  88dd71d1ffe2                                                            4 Use Cases of AI & Knowledge Graphs in Investing  2019-03-28"
      ]
     },
     "execution_count": 33,
     "metadata": {},
     "output_type": "execute_result"
    }
   ],
   "source": [
    "# Extract the KG_blogs in clusters other than  41\n",
    "data = read_query(\"\"\"\n",
    "MATCH (a:Author)-[]-(b:Blog)-[]-(c:Cluster)\n",
    "WHERE b.subject CONTAINS 'kno' AND b.topic <> 41\n",
    "RETURN a.name AS author, b.title AS title, b.date AS date\n",
    "ORDER BY date DESC\n",
    "\"\"\")\n",
    "data"
   ]
  }
 ],
 "metadata": {
  "kernelspec": {
   "display_name": "Python 3 (ipykernel)",
   "language": "python",
   "name": "python3"
  },
  "language_info": {
   "codemirror_mode": {
    "name": "ipython",
    "version": 3
   },
   "file_extension": ".py",
   "mimetype": "text/x-python",
   "name": "python",
   "nbconvert_exporter": "python",
   "pygments_lexer": "ipython3",
   "version": "3.9.7"
  },
  "toc": {
   "base_numbering": 1,
   "nav_menu": {},
   "number_sections": true,
   "sideBar": true,
   "skip_h1_title": false,
   "title_cell": "Table of Contents",
   "title_sidebar": "Contents",
   "toc_cell": false,
   "toc_position": {},
   "toc_section_display": true,
   "toc_window_display": false
  }
 },
 "nbformat": 4,
 "nbformat_minor": 5
}
